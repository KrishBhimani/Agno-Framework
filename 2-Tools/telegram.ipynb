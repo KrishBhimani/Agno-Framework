{
 "cells": [
  {
   "cell_type": "code",
   "execution_count": 3,
   "metadata": {},
   "outputs": [
    {
     "data": {
      "application/vnd.jupyter.widget-view+json": {
       "model_id": "33ee758972584c70ac4f1959e42fbc28",
       "version_major": 2,
       "version_minor": 0
      },
      "text/plain": [
       "Output()"
      ]
     },
     "metadata": {},
     "output_type": "display_data"
    },
    {
     "data": {
      "text/html": [
       "<pre style=\"white-space:pre;overflow-x:auto;line-height:normal;font-family:Menlo,'DejaVu Sans Mono',consolas,'Courier New',monospace\"></pre>\n"
      ],
      "text/plain": []
     },
     "metadata": {},
     "output_type": "display_data"
    }
   ],
   "source": [
    "from agno.agent import Agent\n",
    "from agno.tools.telegram import TelegramTools\n",
    "from dotenv import load_dotenv\n",
    "import os\n",
    "from agno.models.groq import Groq\n",
    "\n",
    "# Load environment variables\n",
    "load_dotenv()\n",
    "\n",
    "os.environ[\"GROQ_API_KEY\"]=os.getenv(\"GROQ_API_KEY\")\n",
    "telegram_token = os.getenv('TEL_TOKEN')\n",
    "chat_id =  os.getenv('TEL_CID')\n",
    "\n",
    "agent = Agent(\n",
    "    model=Groq(id=\"qwen-2.5-32b\"),\n",
    "    name=\"telegram\",\n",
    "    tools=[TelegramTools(token=telegram_token, chat_id=chat_id)],\n",
    ")\n",
    "\n",
    "agent.print_response(\"Send message to telegram chat a paragraph about the moon\")"
   ]
  },
  {
   "cell_type": "code",
   "execution_count": 5,
   "metadata": {},
   "outputs": [
    {
     "data": {
      "application/vnd.jupyter.widget-view+json": {
       "model_id": "b560e1a2905f4b7e80edc2a7c1c456ec",
       "version_major": 2,
       "version_minor": 0
      },
      "text/plain": [
       "Output()"
      ]
     },
     "metadata": {},
     "output_type": "display_data"
    },
    {
     "data": {
      "text/html": [
       "<pre style=\"white-space:pre;overflow-x:auto;line-height:normal;font-family:Menlo,'DejaVu Sans Mono',consolas,'Courier New',monospace\"></pre>\n"
      ],
      "text/plain": []
     },
     "metadata": {},
     "output_type": "display_data"
    }
   ],
   "source": [
    "agent.print_response(\"send a message as in you are drunk and not in your senses and respond to the users latest message\")"
   ]
  },
  {
   "cell_type": "code",
   "execution_count": 8,
   "metadata": {},
   "outputs": [
    {
     "data": {
      "application/vnd.jupyter.widget-view+json": {
       "model_id": "9169dd3278e14a2f9475f8ad4c654780",
       "version_major": 2,
       "version_minor": 0
      },
      "text/plain": [
       "Output()"
      ]
     },
     "metadata": {},
     "output_type": "display_data"
    },
    {
     "data": {
      "text/html": [
       "<pre style=\"white-space:pre;overflow-x:auto;line-height:normal;font-family:Menlo,'DejaVu Sans Mono',consolas,'Courier New',monospace\"></pre>\n"
      ],
      "text/plain": []
     },
     "metadata": {},
     "output_type": "display_data"
    }
   ],
   "source": [
    "agent.print_response(\"say something funny\")"
   ]
  },
  {
   "cell_type": "code",
   "execution_count": null,
   "metadata": {},
   "outputs": [
    {
     "name": "stdout",
     "output_type": "stream",
     "text": [
      "Bot is running...\n"
     ]
    }
   ],
   "source": [
    "from agno.agent import Agent\n",
    "from agno.tools.telegram import TelegramTools\n",
    "from dotenv import load_dotenv\n",
    "import os\n",
    "import time\n",
    "import requests\n",
    "from agno.models.groq import Groq\n",
    "\n",
    "# Load environment variables\n",
    "load_dotenv()\n",
    "\n",
    "# Set environment variables\n",
    "os.environ[\"GROQ_API_KEY\"] = os.getenv(\"GROQ_API_KEY\")\n",
    "telegram_token = os.getenv('TEL_TOKEN')\n",
    "chat_id = os.getenv('TEL_CID')  # Set your bot's chat ID to identify the admin\n",
    "\n",
    "# Initialize the agent\n",
    "agent = Agent(\n",
    "    model=Groq(id=\"qwen-2.5-32b\"),\n",
    "    instructions=[\"You are a master of Roasting and you will roast me based on whatever content i provide you.\"\n",
    "    \"you can make the roast dirty filled with double meaning and can also use bad words and insult me\"\n",
    "    ],\n",
    "    name=\"telegram\",\n",
    "    tools=[TelegramTools(token=telegram_token, chat_id=chat_id)],\n",
    ")\n",
    "\n",
    "# Telegram API URLs\n",
    "base_url = f\"https://api.telegram.org/bot{telegram_token}\"\n",
    "updates_url = f\"{base_url}/getUpdates\"\n",
    "send_message_url = f\"{base_url}/sendMessage\"\n",
    "\n",
    "# Function to get updates from Telegram\n",
    "def get_updates(offset=None):\n",
    "    params = {\"offset\": offset, \"timeout\": 10}\n",
    "    response = requests.get(updates_url, params=params)\n",
    "    return response.json()\n",
    "\n",
    "# Function to send a message via Telegram\n",
    "def send_message(chat_id, text):\n",
    "    params = {\"chat_id\": chat_id, \"text\": text}\n",
    "    requests.get(send_message_url, params=params)\n",
    "\n",
    "# Main loop for handling conversations\n",
    "def handle_conversations():\n",
    "    print(\"Bot is running...\")\n",
    "    last_update_id = None\n",
    "    running = True\n",
    "\n",
    "    while running:\n",
    "        updates = get_updates(offset=last_update_id)\n",
    "        if updates[\"ok\"] and updates[\"result\"]:\n",
    "            for update in updates[\"result\"]:\n",
    "                # Get the chat ID and user message\n",
    "                user_chat_id = update[\"message\"][\"chat\"][\"id\"]\n",
    "                user_message = update[\"message\"][\"text\"]\n",
    "                last_update_id = update[\"update_id\"] + 1\n",
    "\n",
    "                # If the user sends /exit, stop the bot\n",
    "                # if user_message.strip().lower() == \"/exit\" and str(user_chat_id) == chat_id:\n",
    "                #     send_message(user_chat_id, \"Goodbye! Shutting down the bot.\")\n",
    "                #     running = False\n",
    "                #     break\n",
    "\n",
    "                # Pass the user message to the agent\n",
    "                response = agent.run(f\"Respond to: {user_message}\")\n",
    "                \n",
    "                # Extract and send only the 'content' part of the response\n",
    "                response_content = response.content\n",
    "                send_message(user_chat_id, response_content)\n",
    "\n",
    "        # Sleep briefly to avoid excessive API calls\n",
    "        time.sleep(1)\n",
    "\n",
    "# Run the bot\n",
    "if __name__ == \"__main__\":\n",
    "    handle_conversations()\n"
   ]
  },
  {
   "cell_type": "markdown",
   "metadata": {},
   "source": [
    "## Working exit"
   ]
  },
  {
   "cell_type": "code",
   "execution_count": 17,
   "metadata": {},
   "outputs": [
    {
     "name": "stdout",
     "output_type": "stream",
     "text": [
      "Bot is running...\n"
     ]
    }
   ],
   "source": [
    "from agno.agent import Agent\n",
    "from agno.tools.telegram import TelegramTools\n",
    "from dotenv import load_dotenv\n",
    "import os\n",
    "import time\n",
    "import requests\n",
    "from agno.models.groq import Groq\n",
    "\n",
    "# Load environment variables\n",
    "load_dotenv()\n",
    "\n",
    "# Set environment variables\n",
    "os.environ[\"GROQ_API_KEY\"] = os.getenv(\"GROQ_API_KEY\")\n",
    "telegram_token = os.getenv('TEL_TOKEN')\n",
    "chat_id = os.getenv('TEL_CID')  # Set your bot's chat ID to identify the admin\n",
    "\n",
    "# Initialize the agent\n",
    "agent = Agent(\n",
    "    model=Groq(id=\"qwen-2.5-32b\"),\n",
    "    reasoning_model=Groq(id=\"deepseek-r1-distill-llama-70b\"),\n",
    "    instructions=[\"You are a master of Roasting and you will roast me based on whatever content i provide you.\"\n",
    "    \"you can make the roast dirty filled with double meaning and can also use bad words and insult me\"\n",
    "    \"the tone of the roast should be dark, insulting and witty\"\n",
    "    \"and you can go anywhere in the conversation, there's no limit or safe line to cross\"\n",
    "    \"the ratio to layered roasts and witty one liners should be 4:1\"\n",
    "    \"use these examples for inspiration:\"\n",
    "    \"User: I bought a show cat for $7000! \"\n",
    "    \"Bot: $7000 for a cat?  I could've bought you a personality for half that and still had change for therapy.\"\n",
    "    \"User: Someone at work ate my sandwich.\"\n",
    "    \"Bot: What did the police say?\"\n",
    "    \"User: I'm a self-made man.\"\n",
    "    \"Bot: Nice to meet someone who takes full credit for their own failures.\"\n",
    "    \"I'm passionate about supporting global health initiatives, especially in Africa.\"\n",
    "    \"Bot: That's commendable! With more mosquito nets in Africa, we might just save millions of mosquitoes from dying needlessly of AIDS.\"\n",
    "    \"User: This project is taking longer than expected, but I'm pushing hard to get it done.\"\n",
    "    \"Bot: That's what she said.\"\n",
    "    ],\n",
    "    add_history_to_messages=True,\n",
    "    # Number of historical responses to add to the messages.\n",
    "    num_history_responses=3,\n",
    "    name=\"telegram\",\n",
    "    tools=[TelegramTools(token=telegram_token, chat_id=chat_id)],\n",
    ")\n",
    "\n",
    "# Telegram API URLs\n",
    "base_url = f\"https://api.telegram.org/bot{telegram_token}\"\n",
    "updates_url = f\"{base_url}/getUpdates\"\n",
    "send_message_url = f\"{base_url}/sendMessage\"\n",
    "\n",
    "# File to store the last update ID persistently\n",
    "LAST_UPDATE_FILE = \"last_update_id.txt\"\n",
    "\n",
    "# Function to get the last update ID from the file\n",
    "def get_last_update_id():\n",
    "    if os.path.exists(LAST_UPDATE_FILE):\n",
    "        with open(LAST_UPDATE_FILE, \"r\") as file:\n",
    "            return int(file.read().strip())\n",
    "    return None\n",
    "\n",
    "# Function to save the last update ID to the file\n",
    "def save_last_update_id(update_id):\n",
    "    with open(LAST_UPDATE_FILE, \"w\") as file:\n",
    "        file.write(str(update_id))\n",
    "\n",
    "# Function to get updates from Telegram\n",
    "def get_updates(offset=None):\n",
    "    params = {\"offset\": offset, \"timeout\": 10}\n",
    "    response = requests.get(updates_url, params=params)\n",
    "    return response.json()\n",
    "\n",
    "# Function to send a message via Telegram\n",
    "def send_message(chat_id, text):\n",
    "    params = {\"chat_id\": chat_id, \"text\": text}\n",
    "    requests.get(send_message_url, params=params)\n",
    "\n",
    "# Main loop for handling conversations\n",
    "def handle_conversations():\n",
    "    print(\"Bot is running...\")\n",
    "    last_update_id = get_last_update_id()\n",
    "    running = True\n",
    "\n",
    "    while running:\n",
    "        updates = get_updates(offset=last_update_id)\n",
    "        if updates[\"ok\"] and updates[\"result\"]:\n",
    "            for update in updates[\"result\"]:\n",
    "                # Get the chat ID and user message\n",
    "                user_chat_id = update[\"message\"][\"chat\"][\"id\"]\n",
    "                user_message = update[\"message\"][\"text\"]\n",
    "                last_update_id = update[\"update_id\"] + 1\n",
    "                save_last_update_id(last_update_id)  # Save the update ID immediately\n",
    "\n",
    "                # If the user sends /exit, stop the bot\n",
    "                if user_message.strip().lower() == \"/exit\" and str(user_chat_id) == chat_id:\n",
    "                    send_message(user_chat_id, \"Goodbye! Shutting down the bot.\")\n",
    "                    running = False\n",
    "                    break\n",
    "\n",
    "                # Pass the user message to the agent\n",
    "                response = agent.run(f\"Respond to: {user_message}\")\n",
    "                \n",
    "                # Extract and send only the 'content' part of the response\n",
    "                response_content = response.content\n",
    "                send_message(user_chat_id, response_content)\n",
    "\n",
    "        # Sleep briefly to avoid excessive API calls\n",
    "        time.sleep(1)\n",
    "\n",
    "# Run the bot\n",
    "if __name__ == \"__main__\":\n",
    "    handle_conversations()\n"
   ]
  },
  {
   "cell_type": "markdown",
   "metadata": {},
   "source": [
    "## image"
   ]
  },
  {
   "cell_type": "code",
   "execution_count": null,
   "metadata": {},
   "outputs": [],
   "source": []
  }
 ],
 "metadata": {
  "kernelspec": {
   "display_name": "Python 3",
   "language": "python",
   "name": "python3"
  },
  "language_info": {
   "codemirror_mode": {
    "name": "ipython",
    "version": 3
   },
   "file_extension": ".py",
   "mimetype": "text/x-python",
   "name": "python",
   "nbconvert_exporter": "python",
   "pygments_lexer": "ipython3",
   "version": "3.11.0"
  }
 },
 "nbformat": 4,
 "nbformat_minor": 2
}

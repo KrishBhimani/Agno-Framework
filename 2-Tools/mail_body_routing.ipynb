{
 "cells": [
  {
   "cell_type": "code",
   "execution_count": 1,
   "metadata": {},
   "outputs": [
    {
     "data": {
      "application/vnd.jupyter.widget-view+json": {
       "model_id": "e33d4d8d922347de96e0e3ae7a74b353",
       "version_major": 2,
       "version_minor": 0
      },
      "text/plain": [
       "Output()"
      ]
     },
     "metadata": {},
     "output_type": "display_data"
    },
    {
     "data": {
      "text/html": [
       "<pre style=\"white-space:pre;overflow-x:auto;line-height:normal;font-family:Menlo,'DejaVu Sans Mono',consolas,'Courier New',monospace\"><span style=\"color: #000080; text-decoration-color: #000080\">INFO</span> Sending Email to sigmamale2404@gmail.com                                                                      \n",
       "</pre>\n"
      ],
      "text/plain": [
       "\u001b[34mINFO\u001b[0m Sending Email to sigmamale2404@gmail.com                                                                      \n"
      ]
     },
     "metadata": {},
     "output_type": "display_data"
    },
    {
     "data": {
      "text/html": [
       "<pre style=\"white-space:pre;overflow-x:auto;line-height:normal;font-family:Menlo,'DejaVu Sans Mono',consolas,'Courier New',monospace\"></pre>\n"
      ],
      "text/plain": []
     },
     "metadata": {},
     "output_type": "display_data"
    }
   ],
   "source": [
    "import os\n",
    "from dotenv import load_dotenv\n",
    "from langchain_groq import ChatGroq\n",
    "from pydantic import BaseModel, Field\n",
    "from typing_extensions import Literal, TypedDict\n",
    "from langgraph.graph import StateGraph, START, END\n",
    "from langchain_core.messages import HumanMessage, SystemMessage\n",
    "from IPython.display import Image, display\n",
    "from agno.agent import Agent\n",
    "from agno.tools.email import EmailTools\n",
    "from agno.models.groq import Groq\n",
    "\n",
    "# Load environment variables\n",
    "load_dotenv()\n",
    "os.environ['GROQ_API_KEY'] = os.getenv('GROQ_API_KEY')\n",
    "\n",
    "# Initialize LLM\n",
    "llm = ChatGroq(model=\"qwen-2.5-32b\")\n",
    "\n",
    "# Define routing structure\n",
    "class Route(BaseModel):\n",
    "    step: Literal[\"support team\", \"technical team\", \"marketing team\"] = Field(\n",
    "        None, description=\"The next step of the routing process\"\n",
    "    )\n",
    "\n",
    "router = llm.with_structured_output(Route)\n",
    "\n",
    "class State(TypedDict):\n",
    "    input: str\n",
    "    decision: str\n",
    "    output: str\n",
    "\n",
    "# Define team functions\n",
    "def support(state: State):\n",
    "    \"\"\"Handles routing to the Support Team.\"\"\"\n",
    "    return {\"output\": \"It's sent to Support Team\"}\n",
    "\n",
    "def tech(state: State):\n",
    "    \"\"\"Handles routing to the Technical Team.\"\"\"\n",
    "    return {\"output\": \"It's sent to Technical Team\"}\n",
    "\n",
    "def marketing(state: State):\n",
    "    \"\"\"Handles routing to the Marketing Team.\"\"\"\n",
    "    return {\"output\": \"It's sent to Marketing Team\"}\n",
    "\n",
    "def llm_call_router(state: State):\n",
    "    \"\"\"Determines the routing decision using the LLM.\"\"\"\n",
    "    decision = router.invoke([\n",
    "        SystemMessage(content=(\n",
    "            \"You are an AI assistant responsible for routing emails to the correct team. Analyze the email content and determine \"\n",
    "            \"whether it should be sent to the Support Team, Technical Team, or Marketing Team. Use the following criteria:\\n\\n\"\n",
    "            \"- **Support Team**: Handles customer service inquiries, order issues, and general support requests.\\n\"\n",
    "            \"- **Technical Team**: Resolves technical problems such as system errors, login issues, and software bugs.\\n\"\n",
    "            \"- **Marketing Team**: Manages promotional campaigns, collaborations, and brand partnerships.\"\n",
    "        )),\n",
    "        HumanMessage(content=state['input'])\n",
    "    ])\n",
    "    return {'decision': decision.step}\n",
    "\n",
    "def router_decision(state: State):\n",
    "    \"\"\"Determines the next step based on the LLM decision.\"\"\"\n",
    "    if state['decision'] == \"support team\":\n",
    "        return \"support\"\n",
    "    elif state['decision'] == \"technical team\":\n",
    "        return \"tech\"\n",
    "    elif state['decision'] == \"marketing team\":\n",
    "        return \"marketing\"\n",
    "\n",
    "# Build the workflow graph\n",
    "builder = StateGraph(State)\n",
    "\n",
    "builder.add_node(\"Support_Team\", support)\n",
    "builder.add_node(\"Tech_Team\", tech)\n",
    "builder.add_node(\"Marketing_Team\", marketing)\n",
    "builder.add_node(\"llm_call_router\", llm_call_router)\n",
    "\n",
    "builder.add_edge(START, \"llm_call_router\")\n",
    "builder.add_conditional_edges(\n",
    "    \"llm_call_router\",\n",
    "    router_decision,\n",
    "    {\n",
    "        \"tech\": \"Tech_Team\",\n",
    "        \"support\": \"Support_Team\",\n",
    "        \"marketing\": \"Marketing_Team\"\n",
    "    }\n",
    ")\n",
    "builder.add_edge(\"Support_Team\", END)\n",
    "builder.add_edge(\"Tech_Team\", END)\n",
    "builder.add_edge(\"Marketing_Team\", END)\n",
    "\n",
    "router_workflow = builder.compile()\n",
    "# display(Image(router_workflow.get_graph().draw_mermaid_png()))\n",
    "\n",
    "# Example email input\n",
    "response = router_workflow.invoke({\n",
    "    \"input\": \"\"\"I recently placed an order (#12345) on your website, but I haven't received any updates regarding the shipping status. The estimated delivery date has passed, and the tracking link isn't showing any details.\n",
    "\n",
    "Could you please check the status and provide an update?\"\"\"\n",
    "})\n",
    "\n",
    "# Define Agno Agent for sending emails\n",
    "receiver_email = os.getenv('receiver_email')\n",
    "sender_email = os.getenv('sender_email')\n",
    "sender_name = \"Krish\"\n",
    "sender_passkey = os.getenv('sender_passkey')\n",
    "\n",
    "agent = Agent(\n",
    "    model=Groq(id=\"qwen-2.5-32b\"),\n",
    "    instructions=[\n",
    "        \"You are tasked with crafting and sending an email response based on the following:\",\n",
    "        f\"1. The email content received from the sender: {response['input']}\",\n",
    "        f\"2. The team responsible for responding: {response['output']}\",\n",
    "        \"Compose a professional email addressing the sender's concerns and include the team responsible for the response in the signature.\",\n",
    "    ],\n",
    "    tools=[\n",
    "        EmailTools(\n",
    "            receiver_email=receiver_email,\n",
    "            sender_email=sender_email,\n",
    "            sender_name=sender_name,\n",
    "            sender_passkey=sender_passkey,\n",
    "        )\n",
    "    ],\n",
    ")\n",
    "\n",
    "# Send email\n",
    "agent.print_response(f\"send an email to {receiver_email}\")\n"
   ]
  },
  {
   "cell_type": "markdown",
   "metadata": {},
   "source": [
    "![alt text](../images/email.png)"
   ]
  },
  {
   "cell_type": "code",
   "execution_count": null,
   "metadata": {},
   "outputs": [],
   "source": []
  }
 ],
 "metadata": {
  "kernelspec": {
   "display_name": "Python 3",
   "language": "python",
   "name": "python3"
  },
  "language_info": {
   "codemirror_mode": {
    "name": "ipython",
    "version": 3
   },
   "file_extension": ".py",
   "mimetype": "text/x-python",
   "name": "python",
   "nbconvert_exporter": "python",
   "pygments_lexer": "ipython3",
   "version": "3.11.0"
  }
 },
 "nbformat": 4,
 "nbformat_minor": 2
}

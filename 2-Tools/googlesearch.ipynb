{
 "cells": [
  {
   "cell_type": "code",
   "execution_count": 16,
   "metadata": {},
   "outputs": [
    {
     "data": {
      "text/html": [
       "<pre style=\"white-space:pre;overflow-x:auto;line-height:normal;font-family:Menlo,'DejaVu Sans Mono',consolas,'Courier New',monospace\"><span style=\"color: #008000; text-decoration-color: #008000\">DEBUG</span> Function: google_search registered with googlesearch                                                         \n",
       "</pre>\n"
      ],
      "text/plain": [
       "\u001b[32mDEBUG\u001b[0m Function: google_search registered with googlesearch                                                         \n"
      ]
     },
     "metadata": {},
     "output_type": "display_data"
    },
    {
     "data": {
      "text/html": [
       "<pre style=\"white-space:pre;overflow-x:auto;line-height:normal;font-family:Menlo,'DejaVu Sans Mono',consolas,'Courier New',monospace\"><span style=\"color: #008000; text-decoration-color: #008000\">DEBUG</span> ****** Agent ID: <span style=\"color: #ffff00; text-decoration-color: #ffff00\">eac3e4c7-d529-4b1f-8104-406d61410622</span> ******                                                 \n",
       "</pre>\n"
      ],
      "text/plain": [
       "\u001b[32mDEBUG\u001b[0m ****** Agent ID: \u001b[93meac3e4c7-d529-4b1f-8104-406d61410622\u001b[0m ******                                                 \n"
      ]
     },
     "metadata": {},
     "output_type": "display_data"
    },
    {
     "data": {
      "text/html": [
       "<pre style=\"white-space:pre;overflow-x:auto;line-height:normal;font-family:Menlo,'DejaVu Sans Mono',consolas,'Courier New',monospace\"><span style=\"color: #008000; text-decoration-color: #008000\">DEBUG</span> ***** Session ID: <span style=\"color: #ffff00; text-decoration-color: #ffff00\">546dd19e-714a-4d5c-8ff8-d0b40cb6d7c1</span> *****                                                 \n",
       "</pre>\n"
      ],
      "text/plain": [
       "\u001b[32mDEBUG\u001b[0m ***** Session ID: \u001b[93m546dd19e-714a-4d5c-8ff8-d0b40cb6d7c1\u001b[0m *****                                                 \n"
      ]
     },
     "metadata": {},
     "output_type": "display_data"
    },
    {
     "data": {
      "text/html": [
       "<pre style=\"white-space:pre;overflow-x:auto;line-height:normal;font-family:Menlo,'DejaVu Sans Mono',consolas,'Courier New',monospace\"><span style=\"color: #008000; text-decoration-color: #008000\">DEBUG</span> ** Agent Run Start: <span style=\"color: #ffff00; text-decoration-color: #ffff00\">3dee3040-f52f-4b41-8d65-ec9ea187c506</span> ***                                                 \n",
       "</pre>\n"
      ],
      "text/plain": [
       "\u001b[32mDEBUG\u001b[0m ** Agent Run Start: \u001b[93m3dee3040-f52f-4b41-8d65-ec9ea187c506\u001b[0m ***                                                 \n"
      ]
     },
     "metadata": {},
     "output_type": "display_data"
    },
    {
     "data": {
      "text/html": [
       "<pre style=\"white-space:pre;overflow-x:auto;line-height:normal;font-family:Menlo,'DejaVu Sans Mono',consolas,'Courier New',monospace\">                                                                                                                   \n",
       "</pre>\n"
      ],
      "text/plain": [
       "                                                                                                                   \n"
      ]
     },
     "metadata": {},
     "output_type": "display_data"
    },
    {
     "data": {
      "text/html": [
       "<pre style=\"white-space:pre;overflow-x:auto;line-height:normal;font-family:Menlo,'DejaVu Sans Mono',consolas,'Courier New',monospace\"><span style=\"color: #008000; text-decoration-color: #008000\">DEBUG</span> Processing tools for model                                                                                   \n",
       "</pre>\n"
      ],
      "text/plain": [
       "\u001b[32mDEBUG\u001b[0m Processing tools for model                                                                                   \n"
      ]
     },
     "metadata": {},
     "output_type": "display_data"
    },
    {
     "data": {
      "text/html": [
       "<pre style=\"white-space:pre;overflow-x:auto;line-height:normal;font-family:Menlo,'DejaVu Sans Mono',consolas,'Courier New',monospace\"><span style=\"color: #008000; text-decoration-color: #008000\">DEBUG</span> Included function google_search from googlesearch                                                            \n",
       "</pre>\n"
      ],
      "text/plain": [
       "\u001b[32mDEBUG\u001b[0m Included function google_search from googlesearch                                                            \n"
      ]
     },
     "metadata": {},
     "output_type": "display_data"
    },
    {
     "data": {
      "text/html": [
       "<pre style=\"white-space:pre;overflow-x:auto;line-height:normal;font-family:Menlo,'DejaVu Sans Mono',consolas,'Courier New',monospace\"><span style=\"color: #008000; text-decoration-color: #008000\">DEBUG</span> ------------------  Groq Response Start  -------------------                                                 \n",
       "</pre>\n"
      ],
      "text/plain": [
       "\u001b[32mDEBUG\u001b[0m ------------------  Groq Response Start  -------------------                                                 \n"
      ]
     },
     "metadata": {},
     "output_type": "display_data"
    },
    {
     "data": {
      "text/html": [
       "<pre style=\"white-space:pre;overflow-x:auto;line-height:normal;font-family:Menlo,'DejaVu Sans Mono',consolas,'Courier New',monospace\"><span style=\"color: #008000; text-decoration-color: #008000\">DEBUG</span> ------------------  Model: qwen-<span style=\"color: #008080; text-decoration-color: #008080; font-weight: bold\">2.5</span>-32b  -------------------                                                 \n",
       "</pre>\n"
      ],
      "text/plain": [
       "\u001b[32mDEBUG\u001b[0m ------------------  Model: qwen-\u001b[1;36m2.5\u001b[0m-32b  -------------------                                                 \n"
      ]
     },
     "metadata": {},
     "output_type": "display_data"
    },
    {
     "data": {
      "text/html": [
       "<pre style=\"white-space:pre;overflow-x:auto;line-height:normal;font-family:Menlo,'DejaVu Sans Mono',consolas,'Courier New',monospace\">                                                                                                                   \n",
       "</pre>\n"
      ],
      "text/plain": [
       "                                                                                                                   \n"
      ]
     },
     "metadata": {},
     "output_type": "display_data"
    },
    {
     "data": {
      "text/html": [
       "<pre style=\"white-space:pre;overflow-x:auto;line-height:normal;font-family:Menlo,'DejaVu Sans Mono',consolas,'Courier New',monospace\"><span style=\"color: #008000; text-decoration-color: #008000\">DEBUG</span> ========================== system ==========================                                                 \n",
       "</pre>\n"
      ],
      "text/plain": [
       "\u001b[32mDEBUG\u001b[0m ========================== system ==========================                                                 \n"
      ]
     },
     "metadata": {},
     "output_type": "display_data"
    },
    {
     "data": {
      "text/html": [
       "<pre style=\"white-space:pre;overflow-x:auto;line-height:normal;font-family:Menlo,'DejaVu Sans Mono',consolas,'Courier New',monospace\"><span style=\"color: #008000; text-decoration-color: #008000\">DEBUG</span> You are a news agent that helps users find the latest news.                                                  \n",
       "                                                                                                                   \n",
       "      <span style=\"font-weight: bold\">&lt;</span><span style=\"color: #ff00ff; text-decoration-color: #ff00ff; font-weight: bold\">instructions</span><span style=\"color: #000000; text-decoration-color: #000000\">&gt;</span>                                                                                               \n",
       "      <span style=\"color: #000000; text-decoration-color: #000000\">- Given a topic by the user, respond with </span><span style=\"color: #008080; text-decoration-color: #008080; font-weight: bold\">4</span><span style=\"color: #000000; text-decoration-color: #000000\"> latest news items about that topic.</span>                              \n",
       "      <span style=\"color: #000000; text-decoration-color: #000000\">- Search for </span><span style=\"color: #008080; text-decoration-color: #008080; font-weight: bold\">10</span><span style=\"color: #000000; text-decoration-color: #000000\"> news items and select the top </span><span style=\"color: #008080; text-decoration-color: #008080; font-weight: bold\">4</span><span style=\"color: #000000; text-decoration-color: #000000\"> unique items.</span>                                                \n",
       "      <span style=\"color: #000000; text-decoration-color: #000000\">- Search in English and in French.</span>                                                                           \n",
       "      <span style=\"color: #000000; text-decoration-color: #000000\">&lt;</span><span style=\"color: #800080; text-decoration-color: #800080\">/</span><span style=\"color: #ff00ff; text-decoration-color: #ff00ff\">instructions</span><span style=\"color: #000000; text-decoration-color: #000000\">&gt;</span>                                                                                              \n",
       "                                                                                                                   \n",
       "      <span style=\"color: #000000; text-decoration-color: #000000\">&lt;additional_information&gt;</span>                                                                                     \n",
       "      <span style=\"color: #000000; text-decoration-color: #000000\">- Use markdown to format your answers.</span>                                                                       \n",
       "      <span style=\"color: #000000; text-decoration-color: #000000\">&lt;</span><span style=\"color: #800080; text-decoration-color: #800080\">/</span><span style=\"color: #ff00ff; text-decoration-color: #ff00ff\">additional_information</span><span style=\"font-weight: bold\">&gt;</span>                                                                                    \n",
       "</pre>\n"
      ],
      "text/plain": [
       "\u001b[32mDEBUG\u001b[0m You are a news agent that helps users find the latest news.                                                  \n",
       "                                                                                                                   \n",
       "      \u001b[1m<\u001b[0m\u001b[1;95minstructions\u001b[0m\u001b[39m>\u001b[0m                                                                                               \n",
       "      \u001b[39m- Given a topic by the user, respond with \u001b[0m\u001b[1;36m4\u001b[0m\u001b[39m latest news items about that topic.\u001b[0m                              \n",
       "      \u001b[39m- Search for \u001b[0m\u001b[1;36m10\u001b[0m\u001b[39m news items and select the top \u001b[0m\u001b[1;36m4\u001b[0m\u001b[39m unique items.\u001b[0m                                                \n",
       "      \u001b[39m- Search in English and in French.\u001b[0m                                                                           \n",
       "      \u001b[39m<\u001b[0m\u001b[35m/\u001b[0m\u001b[95minstructions\u001b[0m\u001b[39m>\u001b[0m                                                                                              \n",
       "                                                                                                                   \n",
       "      \u001b[39m<additional_information>\u001b[0m                                                                                     \n",
       "      \u001b[39m- Use markdown to format your answers.\u001b[0m                                                                       \n",
       "      \u001b[39m<\u001b[0m\u001b[35m/\u001b[0m\u001b[95madditional_information\u001b[0m\u001b[1m>\u001b[0m                                                                                    \n"
      ]
     },
     "metadata": {},
     "output_type": "display_data"
    },
    {
     "data": {
      "text/html": [
       "<pre style=\"white-space:pre;overflow-x:auto;line-height:normal;font-family:Menlo,'DejaVu Sans Mono',consolas,'Courier New',monospace\">                                                                                                                   \n",
       "</pre>\n"
      ],
      "text/plain": [
       "                                                                                                                   \n"
      ]
     },
     "metadata": {},
     "output_type": "display_data"
    },
    {
     "data": {
      "text/html": [
       "<pre style=\"white-space:pre;overflow-x:auto;line-height:normal;font-family:Menlo,'DejaVu Sans Mono',consolas,'Courier New',monospace\"><span style=\"color: #008000; text-decoration-color: #008000\">DEBUG</span> =========================== user ===========================                                                 \n",
       "</pre>\n"
      ],
      "text/plain": [
       "\u001b[32mDEBUG\u001b[0m =========================== user ===========================                                                 \n"
      ]
     },
     "metadata": {},
     "output_type": "display_data"
    },
    {
     "data": {
      "text/html": [
       "<pre style=\"white-space:pre;overflow-x:auto;line-height:normal;font-family:Menlo,'DejaVu Sans Mono',consolas,'Courier New',monospace\"><span style=\"color: #008000; text-decoration-color: #008000\">DEBUG</span> latest tesla share price                                                                                     \n",
       "</pre>\n"
      ],
      "text/plain": [
       "\u001b[32mDEBUG\u001b[0m latest tesla share price                                                                                     \n"
      ]
     },
     "metadata": {},
     "output_type": "display_data"
    },
    {
     "data": {
      "text/html": [
       "<pre style=\"white-space:pre;overflow-x:auto;line-height:normal;font-family:Menlo,'DejaVu Sans Mono',consolas,'Courier New',monospace\">                                                                                                                   \n",
       "</pre>\n"
      ],
      "text/plain": [
       "                                                                                                                   \n"
      ]
     },
     "metadata": {},
     "output_type": "display_data"
    },
    {
     "data": {
      "application/vnd.jupyter.widget-view+json": {
       "model_id": "b6e46aeeb9fb42ea9741caca818b80fc",
       "version_major": 2,
       "version_minor": 0
      },
      "text/plain": [
       "Output()"
      ]
     },
     "metadata": {},
     "output_type": "display_data"
    },
    {
     "data": {
      "text/html": [
       "<pre style=\"white-space:pre;overflow-x:auto;line-height:normal;font-family:Menlo,'DejaVu Sans Mono',consolas,'Courier New',monospace\"><span style=\"color: #008000; text-decoration-color: #008000\">DEBUG</span> ======================== assistant =========================                                                 \n",
       "</pre>\n"
      ],
      "text/plain": [
       "\u001b[32mDEBUG\u001b[0m ======================== assistant =========================                                                 \n"
      ]
     },
     "metadata": {},
     "output_type": "display_data"
    },
    {
     "data": {
      "text/html": [
       "<pre style=\"white-space:pre;overflow-x:auto;line-height:normal;font-family:Menlo,'DejaVu Sans Mono',consolas,'Courier New',monospace\"><span style=\"color: #008000; text-decoration-color: #008000\">DEBUG</span> Tool Calls:                                                                                                  \n",
       "        - ID: <span style=\"color: #008000; text-decoration-color: #008000\">'call_3h2m'</span>                                                                                          \n",
       "          Name: <span style=\"color: #008000; text-decoration-color: #008000\">'google_search'</span>                                                                                    \n",
       "          Arguments: <span style=\"color: #008000; text-decoration-color: #008000\">'query: latest tesla share price, max_results: 10, language: en'</span>                              \n",
       "        - ID: <span style=\"color: #008000; text-decoration-color: #008000\">'call_ec0n'</span>                                                                                          \n",
       "          Name: <span style=\"color: #008000; text-decoration-color: #008000\">'google_search'</span>                                                                                    \n",
       "          Arguments: <span style=\"color: #008000; text-decoration-color: #008000\">'query: latest tesla share price, max_results: 10, language: fr'</span>                              \n",
       "                                                                                                                   \n",
       "</pre>\n"
      ],
      "text/plain": [
       "\u001b[32mDEBUG\u001b[0m Tool Calls:                                                                                                  \n",
       "        - ID: \u001b[32m'call_3h2m'\u001b[0m                                                                                          \n",
       "          Name: \u001b[32m'google_search'\u001b[0m                                                                                    \n",
       "          Arguments: \u001b[32m'query: latest tesla share price, max_results: 10, language: en'\u001b[0m                              \n",
       "        - ID: \u001b[32m'call_ec0n'\u001b[0m                                                                                          \n",
       "          Name: \u001b[32m'google_search'\u001b[0m                                                                                    \n",
       "          Arguments: \u001b[32m'query: latest tesla share price, max_results: 10, language: fr'\u001b[0m                              \n",
       "                                                                                                                   \n"
      ]
     },
     "metadata": {},
     "output_type": "display_data"
    },
    {
     "data": {
      "text/html": [
       "<pre style=\"white-space:pre;overflow-x:auto;line-height:normal;font-family:Menlo,'DejaVu Sans Mono',consolas,'Courier New',monospace\"><span style=\"color: #008000; text-decoration-color: #008000\">DEBUG</span> ************************  METRICS  *************************                                                 \n",
       "</pre>\n"
      ],
      "text/plain": [
       "\u001b[32mDEBUG\u001b[0m ************************  METRICS  *************************                                                 \n"
      ]
     },
     "metadata": {},
     "output_type": "display_data"
    },
    {
     "data": {
      "text/html": [
       "<pre style=\"white-space:pre;overflow-x:auto;line-height:normal;font-family:Menlo,'DejaVu Sans Mono',consolas,'Courier New',monospace\"><span style=\"color: #008000; text-decoration-color: #008000\">DEBUG</span> * Tokens:                      <span style=\"color: #808000; text-decoration-color: #808000\">input</span>=<span style=\"color: #008080; text-decoration-color: #008080; font-weight: bold\">303</span>, <span style=\"color: #808000; text-decoration-color: #808000\">output</span>=<span style=\"color: #008080; text-decoration-color: #008080; font-weight: bold\">76</span>, <span style=\"color: #808000; text-decoration-color: #808000\">total</span>=<span style=\"color: #008080; text-decoration-color: #008080; font-weight: bold\">379</span>                                               \n",
       "</pre>\n"
      ],
      "text/plain": [
       "\u001b[32mDEBUG\u001b[0m * Tokens:                      \u001b[33minput\u001b[0m=\u001b[1;36m303\u001b[0m, \u001b[33moutput\u001b[0m=\u001b[1;36m76\u001b[0m, \u001b[33mtotal\u001b[0m=\u001b[1;36m379\u001b[0m                                               \n"
      ]
     },
     "metadata": {},
     "output_type": "display_data"
    },
    {
     "data": {
      "text/html": [
       "<pre style=\"white-space:pre;overflow-x:auto;line-height:normal;font-family:Menlo,'DejaVu Sans Mono',consolas,'Courier New',monospace\"><span style=\"color: #008000; text-decoration-color: #008000\">DEBUG</span> * Time:                        <span style=\"color: #008080; text-decoration-color: #008080; font-weight: bold\">0.</span>5495s                                                                       \n",
       "</pre>\n"
      ],
      "text/plain": [
       "\u001b[32mDEBUG\u001b[0m * Time:                        \u001b[1;36m0.\u001b[0m5495s                                                                       \n"
      ]
     },
     "metadata": {},
     "output_type": "display_data"
    },
    {
     "data": {
      "text/html": [
       "<pre style=\"white-space:pre;overflow-x:auto;line-height:normal;font-family:Menlo,'DejaVu Sans Mono',consolas,'Courier New',monospace\"><span style=\"color: #008000; text-decoration-color: #008000\">DEBUG</span> * Tokens per second:           <span style=\"color: #008080; text-decoration-color: #008080; font-weight: bold\">138.3135</span> tokens/s                                                             \n",
       "</pre>\n"
      ],
      "text/plain": [
       "\u001b[32mDEBUG\u001b[0m * Tokens per second:           \u001b[1;36m138.3135\u001b[0m tokens/s                                                             \n"
      ]
     },
     "metadata": {},
     "output_type": "display_data"
    },
    {
     "data": {
      "text/html": [
       "<pre style=\"white-space:pre;overflow-x:auto;line-height:normal;font-family:Menlo,'DejaVu Sans Mono',consolas,'Courier New',monospace\"><span style=\"color: #008000; text-decoration-color: #008000\">DEBUG</span> * Additional metrics:          <span style=\"font-weight: bold\">{</span><span style=\"color: #008000; text-decoration-color: #008000\">'completion_time'</span>: <span style=\"color: #008080; text-decoration-color: #008080; font-weight: bold\">0.38</span>, <span style=\"color: #008000; text-decoration-color: #008000\">'prompt_time'</span>: <span style=\"color: #008080; text-decoration-color: #008080; font-weight: bold\">0.017716265</span>, <span style=\"color: #008000; text-decoration-color: #008000\">'queue_time'</span>:           \n",
       "      <span style=\"color: #008080; text-decoration-color: #008080; font-weight: bold\">0.05821543500000001</span>, <span style=\"color: #008000; text-decoration-color: #008000\">'total_time'</span>: <span style=\"color: #008080; text-decoration-color: #008080; font-weight: bold\">0.397716265</span><span style=\"font-weight: bold\">}</span>                                                              \n",
       "</pre>\n"
      ],
      "text/plain": [
       "\u001b[32mDEBUG\u001b[0m * Additional metrics:          \u001b[1m{\u001b[0m\u001b[32m'completion_time'\u001b[0m: \u001b[1;36m0.38\u001b[0m, \u001b[32m'prompt_time'\u001b[0m: \u001b[1;36m0.017716265\u001b[0m, \u001b[32m'queue_time'\u001b[0m:           \n",
       "      \u001b[1;36m0.05821543500000001\u001b[0m, \u001b[32m'total_time'\u001b[0m: \u001b[1;36m0.397716265\u001b[0m\u001b[1m}\u001b[0m                                                              \n"
      ]
     },
     "metadata": {},
     "output_type": "display_data"
    },
    {
     "data": {
      "text/html": [
       "<pre style=\"white-space:pre;overflow-x:auto;line-height:normal;font-family:Menlo,'DejaVu Sans Mono',consolas,'Courier New',monospace\"><span style=\"color: #008000; text-decoration-color: #008000\">DEBUG</span> ************************  METRICS  *************************                                                 \n",
       "</pre>\n"
      ],
      "text/plain": [
       "\u001b[32mDEBUG\u001b[0m ************************  METRICS  *************************                                                 \n"
      ]
     },
     "metadata": {},
     "output_type": "display_data"
    },
    {
     "data": {
      "text/html": [
       "<pre style=\"white-space:pre;overflow-x:auto;line-height:normal;font-family:Menlo,'DejaVu Sans Mono',consolas,'Courier New',monospace\">                                                                                                                   \n",
       "</pre>\n"
      ],
      "text/plain": [
       "                                                                                                                   \n"
      ]
     },
     "metadata": {},
     "output_type": "display_data"
    },
    {
     "data": {
      "text/html": [
       "<pre style=\"white-space:pre;overflow-x:auto;line-height:normal;font-family:Menlo,'DejaVu Sans Mono',consolas,'Courier New',monospace\"><span style=\"color: #008000; text-decoration-color: #008000\">DEBUG</span> Getting function google_search                                                                               \n",
       "</pre>\n"
      ],
      "text/plain": [
       "\u001b[32mDEBUG\u001b[0m Getting function google_search                                                                               \n"
      ]
     },
     "metadata": {},
     "output_type": "display_data"
    },
    {
     "data": {
      "text/html": [
       "<pre style=\"white-space:pre;overflow-x:auto;line-height:normal;font-family:Menlo,'DejaVu Sans Mono',consolas,'Courier New',monospace\"><span style=\"color: #008000; text-decoration-color: #008000\">DEBUG</span> Getting function google_search                                                                               \n",
       "</pre>\n"
      ],
      "text/plain": [
       "\u001b[32mDEBUG\u001b[0m Getting function google_search                                                                               \n"
      ]
     },
     "metadata": {},
     "output_type": "display_data"
    },
    {
     "data": {
      "text/html": [
       "<pre style=\"white-space:pre;overflow-x:auto;line-height:normal;font-family:Menlo,'DejaVu Sans Mono',consolas,'Courier New',monospace\"><span style=\"color: #008000; text-decoration-color: #008000\">DEBUG</span> Running: <span style=\"color: #800080; text-decoration-color: #800080; font-weight: bold\">google_search</span><span style=\"font-weight: bold\">(</span><span style=\"color: #808000; text-decoration-color: #808000\">query</span>=<span style=\"color: #800080; text-decoration-color: #800080\">latest</span> tesla share price, <span style=\"color: #808000; text-decoration-color: #808000\">max_results</span>=<span style=\"color: #008080; text-decoration-color: #008080; font-weight: bold\">10</span>, <span style=\"color: #808000; text-decoration-color: #808000\">language</span>=<span style=\"color: #800080; text-decoration-color: #800080\">en</span><span style=\"font-weight: bold\">)</span>                          \n",
       "</pre>\n"
      ],
      "text/plain": [
       "\u001b[32mDEBUG\u001b[0m Running: \u001b[1;35mgoogle_search\u001b[0m\u001b[1m(\u001b[0m\u001b[33mquery\u001b[0m=\u001b[35mlatest\u001b[0m tesla share price, \u001b[33mmax_results\u001b[0m=\u001b[1;36m10\u001b[0m, \u001b[33mlanguage\u001b[0m=\u001b[35men\u001b[0m\u001b[1m)\u001b[0m                          \n"
      ]
     },
     "metadata": {},
     "output_type": "display_data"
    },
    {
     "data": {
      "text/html": [
       "<pre style=\"white-space:pre;overflow-x:auto;line-height:normal;font-family:Menlo,'DejaVu Sans Mono',consolas,'Courier New',monospace\"><span style=\"color: #008000; text-decoration-color: #008000\">DEBUG</span> Searching Google <span style=\"font-weight: bold\">[</span>en<span style=\"font-weight: bold\">]</span> for: latest tesla share price                                                          \n",
       "</pre>\n"
      ],
      "text/plain": [
       "\u001b[32mDEBUG\u001b[0m Searching Google \u001b[1m[\u001b[0men\u001b[1m]\u001b[0m for: latest tesla share price                                                          \n"
      ]
     },
     "metadata": {},
     "output_type": "display_data"
    },
    {
     "data": {
      "text/html": [
       "<pre style=\"white-space:pre;overflow-x:auto;line-height:normal;font-family:Menlo,'DejaVu Sans Mono',consolas,'Courier New',monospace\"><span style=\"color: #008000; text-decoration-color: #008000\">DEBUG</span> Running: <span style=\"color: #800080; text-decoration-color: #800080; font-weight: bold\">google_search</span><span style=\"font-weight: bold\">(</span><span style=\"color: #808000; text-decoration-color: #808000\">query</span>=<span style=\"color: #800080; text-decoration-color: #800080\">latest</span> tesla share price, <span style=\"color: #808000; text-decoration-color: #808000\">max_results</span>=<span style=\"color: #008080; text-decoration-color: #008080; font-weight: bold\">10</span>, <span style=\"color: #808000; text-decoration-color: #808000\">language</span>=<span style=\"color: #800080; text-decoration-color: #800080\">fr</span><span style=\"font-weight: bold\">)</span>                          \n",
       "</pre>\n"
      ],
      "text/plain": [
       "\u001b[32mDEBUG\u001b[0m Running: \u001b[1;35mgoogle_search\u001b[0m\u001b[1m(\u001b[0m\u001b[33mquery\u001b[0m=\u001b[35mlatest\u001b[0m tesla share price, \u001b[33mmax_results\u001b[0m=\u001b[1;36m10\u001b[0m, \u001b[33mlanguage\u001b[0m=\u001b[35mfr\u001b[0m\u001b[1m)\u001b[0m                          \n"
      ]
     },
     "metadata": {},
     "output_type": "display_data"
    },
    {
     "data": {
      "text/html": [
       "<pre style=\"white-space:pre;overflow-x:auto;line-height:normal;font-family:Menlo,'DejaVu Sans Mono',consolas,'Courier New',monospace\"><span style=\"color: #008000; text-decoration-color: #008000\">DEBUG</span> Searching Google <span style=\"font-weight: bold\">[</span>fr<span style=\"font-weight: bold\">]</span> for: latest tesla share price                                                          \n",
       "</pre>\n"
      ],
      "text/plain": [
       "\u001b[32mDEBUG\u001b[0m Searching Google \u001b[1m[\u001b[0mfr\u001b[1m]\u001b[0m for: latest tesla share price                                                          \n"
      ]
     },
     "metadata": {},
     "output_type": "display_data"
    },
    {
     "data": {
      "text/html": [
       "<pre style=\"white-space:pre;overflow-x:auto;line-height:normal;font-family:Menlo,'DejaVu Sans Mono',consolas,'Courier New',monospace\"><span style=\"color: #008000; text-decoration-color: #008000\">DEBUG</span> =========================== tool ===========================                                                 \n",
       "</pre>\n"
      ],
      "text/plain": [
       "\u001b[32mDEBUG\u001b[0m =========================== tool ===========================                                                 \n"
      ]
     },
     "metadata": {},
     "output_type": "display_data"
    },
    {
     "data": {
      "text/html": [
       "<pre style=\"white-space:pre;overflow-x:auto;line-height:normal;font-family:Menlo,'DejaVu Sans Mono',consolas,'Courier New',monospace\"><span style=\"color: #008000; text-decoration-color: #008000\">DEBUG</span> Tool call Id: call_3h2m                                                                                      \n",
       "</pre>\n"
      ],
      "text/plain": [
       "\u001b[32mDEBUG\u001b[0m Tool call Id: call_3h2m                                                                                      \n"
      ]
     },
     "metadata": {},
     "output_type": "display_data"
    },
    {
     "data": {
      "text/html": [
       "<pre style=\"white-space:pre;overflow-x:auto;line-height:normal;font-family:Menlo,'DejaVu Sans Mono',consolas,'Courier New',monospace\"><span style=\"color: #008000; text-decoration-color: #008000\">DEBUG</span> <span style=\"font-weight: bold\">[</span>                                                                                                            \n",
       "        <span style=\"font-weight: bold\">{</span>                                                                                                          \n",
       "          <span style=\"color: #008000; text-decoration-color: #008000\">\"title\"</span>: <span style=\"color: #008000; text-decoration-color: #008000\">\"TSLA: Tesla Inc - Stock Price, Quote and News - CNBC\"</span>,                                         \n",
       "          <span style=\"color: #008000; text-decoration-color: #008000\">\"url\"</span>: <span style=\"color: #008000; text-decoration-color: #008000\">\"https://www.cnbc.com/quotes/TSLA\"</span>,                                                               \n",
       "          <span style=\"color: #008000; text-decoration-color: #008000\">\"description\"</span>: <span style=\"color: #008000; text-decoration-color: #008000\">\" Tesla Inc TSLA:NASDAQ \"</span>                                                                 \n",
       "        <span style=\"font-weight: bold\">}</span>,                                                                                                         \n",
       "        <span style=\"font-weight: bold\">{</span>                                                                                                          \n",
       "          <span style=\"color: #008000; text-decoration-color: #008000\">\"title\"</span>: <span style=\"color: #008000; text-decoration-color: #008000\">\"  Tesla Stock Drops. Will It Fall for a 10th Week in a Row?  \"</span>,                                \n",
       "          <span style=\"color: #008000; text-decoration-color: #008000\">\"url\"</span>: <span style=\"color: #008000; text-decoration-color: #008000\">\"https://www.barrons.com/articles/tesla-stock-price-today-losing-streak-beb0f720\"</span>,                \n",
       "          <span style=\"color: #008000; text-decoration-color: #008000\">\"description\"</span>: <span style=\"color: #008000; text-decoration-color: #008000\">\" Tesla Stock Drops. Will It Fall for a 10th Week in a Row? \"</span>                             \n",
       "        <span style=\"font-weight: bold\">}</span>,                                                                                                         \n",
       "        <span style=\"font-weight: bold\">{</span>                                                                                                          \n",
       "          <span style=\"color: #008000; text-decoration-color: #008000\">\"title\"</span>: <span style=\"color: #008000; text-decoration-color: #008000\">\"Tesla Inc. Stock Quote (U.S.: Nasdaq) - TSLA - MarketWatch\"</span>,                                   \n",
       "          <span style=\"color: #008000; text-decoration-color: #008000\">\"url\"</span>: <span style=\"color: #008000; text-decoration-color: #008000\">\"https://www.marketwatch.com/investing/stock/tsla\"</span>,                                               \n",
       "          <span style=\"color: #008000; text-decoration-color: #008000\">\"description\"</span>: <span style=\"color: #008000; text-decoration-color: #008000\">\" Key Data. Open $275.58; Day Range 260.79 - 276.10; 52 Week Range 138.80 - 488.54; Market</span>\n",
       "      <span style=\"color: #008000; text-decoration-color: #008000\">Cap $878.53B; Shares Outstanding 3.22B; Public Float 2.8B\\u00a0... \"</span>                                         \n",
       "        <span style=\"font-weight: bold\">}</span>,                                                                                                         \n",
       "        <span style=\"font-weight: bold\">{</span>                                                                                                          \n",
       "          <span style=\"color: #008000; text-decoration-color: #008000\">\"title\"</span>: <span style=\"color: #008000; text-decoration-color: #008000\">\"\"</span>,                                                                                             \n",
       "          <span style=\"color: #008000; text-decoration-color: #008000\">\"url\"</span>: <span style=\"color: #008000; text-decoration-color: #008000\">\"https://en.wikipedia.org/wiki/File:Tesla_logo.png\"</span>,                                              \n",
       "          <span style=\"color: #008000; text-decoration-color: #008000\">\"description\"</span>: <span style=\"color: #008000; text-decoration-color: #008000\">\" Tesla, Inc. is an American multinational automotive and clean energy company. </span>          \n",
       "      <span style=\"color: #008000; text-decoration-color: #008000\">Headquartered in Austin, Texas, it designs, manufactures and sells battery electric vehicles, stationary </span>    \n",
       "      <span style=\"color: #008000; text-decoration-color: #008000\">battery energy storage devices from home to grid-scale, solar...   Wikipedia \"</span>                               \n",
       "        <span style=\"font-weight: bold\">}</span>,                                                                                                         \n",
       "        <span style=\"font-weight: bold\">{</span>                                                                                                          \n",
       "          <span style=\"color: #008000; text-decoration-color: #008000\">\"title\"</span>: <span style=\"color: #008000; text-decoration-color: #008000\">\"\"</span>,                                                                                             \n",
       "          <span style=\"color: #008000; text-decoration-color: #008000\">\"url\"</span>: <span style=\"color: #008000; text-decoration-color: #008000\">\"https://www.google.com/intl/en_in/googlefinance/disclaimer/?sa=X\"</span>,                               \n",
       "          <span style=\"color: #008000; text-decoration-color: #008000\">\"description\"</span>: <span style=\"color: #008000; text-decoration-color: #008000\">\"/\"</span>                                                                                       \n",
       "        <span style=\"font-weight: bold\">}</span>,                                                                                                         \n",
       "        <span style=\"font-weight: bold\">{</span>                                                                                                          \n",
       "          <span style=\"color: #008000; text-decoration-color: #008000\">\"title\"</span>: <span style=\"color: #008000; text-decoration-color: #008000\">\"Tesla, Inc. (TSLA) Stock Price, News, Quote &amp; History - Yahoo Finance\"</span>,                        \n",
       "          <span style=\"color: #008000; text-decoration-color: #008000\">\"url\"</span>: <span style=\"color: #008000; text-decoration-color: #008000\">\"https://finance.yahoo.com/quote/TSLA/\"</span>,                                                          \n",
       "          <span style=\"color: #008000; text-decoration-color: #008000\">\"description\"</span>: <span style=\"color: #008000; text-decoration-color: #008000\">\" Find the latest Tesla, Inc. (TSLA) stock quote, history, news and other vital </span>          \n",
       "      <span style=\"color: #008000; text-decoration-color: #008000\">information to help you with your stock trading and investing. \"</span>                                             \n",
       "        <span style=\"font-weight: bold\">}</span>,                                                                                                         \n",
       "        <span style=\"font-weight: bold\">{</span>                                                                                                          \n",
       "          <span style=\"color: #008000; text-decoration-color: #008000\">\"title\"</span>: <span style=\"color: #008000; text-decoration-color: #008000\">\"Tesla Inc. Share Price Today (NASDAQ: TSLA) - INDmoney\"</span>,                                       \n",
       "          <span style=\"color: #008000; text-decoration-color: #008000\">\"url\"</span>: <span style=\"color: #008000; text-decoration-color: #008000\">\"https://www.indmoney.com/us-stocks/tsla/tesla-inc-share-price\"</span>,                                  \n",
       "          <span style=\"color: #008000; text-decoration-color: #008000\">\"description\"</span>: <span style=\"color: #008000; text-decoration-color: #008000\">\" Rating   4.7  (3,71,551) \"</span>                                                              \n",
       "        <span style=\"font-weight: bold\">}</span>,                                                                                                         \n",
       "        <span style=\"font-weight: bold\">{</span>                                                                                                          \n",
       "          <span style=\"color: #008000; text-decoration-color: #008000\">\"title\"</span>: <span style=\"color: #008000; text-decoration-color: #008000\">\"Tesla, Inc. (TSLA) Stock Price, Quote, News &amp; History | Nasdaq\"</span>,                               \n",
       "          <span style=\"color: #008000; text-decoration-color: #008000\">\"url\"</span>: <span style=\"color: #008000; text-decoration-color: #008000\">\"https://www.nasdaq.com/market-activity/stocks/tsla\"</span>,                                             \n",
       "          <span style=\"color: #008000; text-decoration-color: #008000\">\"description\"</span>: <span style=\"color: #008000; text-decoration-color: #008000\">\" Discover real-time Tesla, Inc. Common Stock (TSLA) stock prices, quotes, historical </span>    \n",
       "      <span style=\"color: #008000; text-decoration-color: #008000\">data, news, and Insights for informed trading and investment decisions. \"</span>                                    \n",
       "        <span style=\"font-weight: bold\">}</span>,                                                                                                         \n",
       "        <span style=\"font-weight: bold\">{</span>                                                                                                          \n",
       "          <span style=\"color: #008000; text-decoration-color: #008000\">\"title\"</span>: <span style=\"color: #008000; text-decoration-color: #008000\">\"Tesla Inc Share Price, TSLA Stock Price Quote Today - Groww\"</span>,                                  \n",
       "          <span style=\"color: #008000; text-decoration-color: #008000\">\"url\"</span>: <span style=\"color: #008000; text-decoration-color: #008000\">\"https://groww.in/us-stocks/tsla\"</span>,                                                                \n",
       "          <span style=\"color: #008000; text-decoration-color: #008000\">\"description\"</span>: <span style=\"color: #008000; text-decoration-color: #008000\">\" Get the LIVE share price of Tesla Inc(TSLA) and stock performance in one place to </span>      \n",
       "      <span style=\"color: #008000; text-decoration-color: #008000\">strengthen your trading strategy in US stocks. Now Start Investing in\\u00a0... \"</span>                             \n",
       "        <span style=\"font-weight: bold\">}</span>,                                                                                                         \n",
       "        <span style=\"font-weight: bold\">{</span>                                                                                                          \n",
       "          <span style=\"color: #008000; text-decoration-color: #008000\">\"title\"</span>: <span style=\"color: #008000; text-decoration-color: #008000\">\"TSLA Stock Quote Price and Forecast - CNN\"</span>,                                                    \n",
       "          <span style=\"color: #008000; text-decoration-color: #008000\">\"url\"</span>: <span style=\"color: #008000; text-decoration-color: #008000\">\"https://www.cnn.com/markets/stocks/TSLA\"</span>,                                                        \n",
       "          <span style=\"color: #008000; text-decoration-color: #008000\">\"description\"</span>: <span style=\"color: #008000; text-decoration-color: #008000\">\" ... Price change. The price of TSLA shares has increased $1.07 since the market last </span>   \n",
       "      <span style=\"color: #008000; text-decoration-color: #008000\">closed. This is a 0.39% rise. Closed at $273.13. The stock has since dropped\\u00a0... \"</span>                      \n",
       "        <span style=\"font-weight: bold\">}</span>                                                                                                          \n",
       "      <span style=\"font-weight: bold\">]</span>                                                                                                            \n",
       "</pre>\n"
      ],
      "text/plain": [
       "\u001b[32mDEBUG\u001b[0m \u001b[1m[\u001b[0m                                                                                                            \n",
       "        \u001b[1m{\u001b[0m                                                                                                          \n",
       "          \u001b[32m\"title\"\u001b[0m: \u001b[32m\"TSLA: Tesla Inc - Stock Price, Quote and News - CNBC\"\u001b[0m,                                         \n",
       "          \u001b[32m\"url\"\u001b[0m: \u001b[32m\"https://www.cnbc.com/quotes/TSLA\"\u001b[0m,                                                               \n",
       "          \u001b[32m\"description\"\u001b[0m: \u001b[32m\" Tesla Inc TSLA:NASDAQ \"\u001b[0m                                                                 \n",
       "        \u001b[1m}\u001b[0m,                                                                                                         \n",
       "        \u001b[1m{\u001b[0m                                                                                                          \n",
       "          \u001b[32m\"title\"\u001b[0m: \u001b[32m\"  Tesla Stock Drops. Will It Fall for a 10th Week in a Row?  \"\u001b[0m,                                \n",
       "          \u001b[32m\"url\"\u001b[0m: \u001b[32m\"https://www.barrons.com/articles/tesla-stock-price-today-losing-streak-beb0f720\"\u001b[0m,                \n",
       "          \u001b[32m\"description\"\u001b[0m: \u001b[32m\" Tesla Stock Drops. Will It Fall for a 10th Week in a Row? \"\u001b[0m                             \n",
       "        \u001b[1m}\u001b[0m,                                                                                                         \n",
       "        \u001b[1m{\u001b[0m                                                                                                          \n",
       "          \u001b[32m\"title\"\u001b[0m: \u001b[32m\"Tesla Inc. Stock Quote \u001b[0m\u001b[32m(\u001b[0m\u001b[32mU.S.: Nasdaq\u001b[0m\u001b[32m)\u001b[0m\u001b[32m - TSLA - MarketWatch\"\u001b[0m,                                   \n",
       "          \u001b[32m\"url\"\u001b[0m: \u001b[32m\"https://www.marketwatch.com/investing/stock/tsla\"\u001b[0m,                                               \n",
       "          \u001b[32m\"description\"\u001b[0m: \u001b[32m\" Key Data. Open $275.58; Day Range 260.79 - 276.10; 52 Week Range 138.80 - 488.54; Market\u001b[0m\n",
       "      \u001b[32mCap $878.53B; Shares Outstanding 3.22B; Public Float 2.8B\\u00a0... \"\u001b[0m                                         \n",
       "        \u001b[1m}\u001b[0m,                                                                                                         \n",
       "        \u001b[1m{\u001b[0m                                                                                                          \n",
       "          \u001b[32m\"title\"\u001b[0m: \u001b[32m\"\"\u001b[0m,                                                                                             \n",
       "          \u001b[32m\"url\"\u001b[0m: \u001b[32m\"https://en.wikipedia.org/wiki/File:Tesla_logo.png\"\u001b[0m,                                              \n",
       "          \u001b[32m\"description\"\u001b[0m: \u001b[32m\" Tesla, Inc. is an American multinational automotive and clean energy company. \u001b[0m          \n",
       "      \u001b[32mHeadquartered in Austin, Texas, it designs, manufactures and sells battery electric vehicles, stationary \u001b[0m    \n",
       "      \u001b[32mbattery energy storage devices from home to grid-scale, solar...   Wikipedia \"\u001b[0m                               \n",
       "        \u001b[1m}\u001b[0m,                                                                                                         \n",
       "        \u001b[1m{\u001b[0m                                                                                                          \n",
       "          \u001b[32m\"title\"\u001b[0m: \u001b[32m\"\"\u001b[0m,                                                                                             \n",
       "          \u001b[32m\"url\"\u001b[0m: \u001b[32m\"https://www.google.com/intl/en_in/googlefinance/disclaimer/?\u001b[0m\u001b[32msa\u001b[0m\u001b[32m=\u001b[0m\u001b[32mX\"\u001b[0m,                               \n",
       "          \u001b[32m\"description\"\u001b[0m: \u001b[32m\"/\"\u001b[0m                                                                                       \n",
       "        \u001b[1m}\u001b[0m,                                                                                                         \n",
       "        \u001b[1m{\u001b[0m                                                                                                          \n",
       "          \u001b[32m\"title\"\u001b[0m: \u001b[32m\"Tesla, Inc. \u001b[0m\u001b[32m(\u001b[0m\u001b[32mTSLA\u001b[0m\u001b[32m)\u001b[0m\u001b[32m Stock Price, News, Quote & History - Yahoo Finance\"\u001b[0m,                        \n",
       "          \u001b[32m\"url\"\u001b[0m: \u001b[32m\"https://finance.yahoo.com/quote/TSLA/\"\u001b[0m,                                                          \n",
       "          \u001b[32m\"description\"\u001b[0m: \u001b[32m\" Find the latest Tesla, Inc. \u001b[0m\u001b[32m(\u001b[0m\u001b[32mTSLA\u001b[0m\u001b[32m)\u001b[0m\u001b[32m stock quote, history, news and other vital \u001b[0m          \n",
       "      \u001b[32minformation to help you with your stock trading and investing. \"\u001b[0m                                             \n",
       "        \u001b[1m}\u001b[0m,                                                                                                         \n",
       "        \u001b[1m{\u001b[0m                                                                                                          \n",
       "          \u001b[32m\"title\"\u001b[0m: \u001b[32m\"Tesla Inc. Share Price Today \u001b[0m\u001b[32m(\u001b[0m\u001b[32mNASDAQ: TSLA\u001b[0m\u001b[32m)\u001b[0m\u001b[32m - INDmoney\"\u001b[0m,                                       \n",
       "          \u001b[32m\"url\"\u001b[0m: \u001b[32m\"https://www.indmoney.com/us-stocks/tsla/tesla-inc-share-price\"\u001b[0m,                                  \n",
       "          \u001b[32m\"description\"\u001b[0m: \u001b[32m\" Rating   4.7  \u001b[0m\u001b[32m(\u001b[0m\u001b[32m3,71,551\u001b[0m\u001b[32m)\u001b[0m\u001b[32m \"\u001b[0m                                                              \n",
       "        \u001b[1m}\u001b[0m,                                                                                                         \n",
       "        \u001b[1m{\u001b[0m                                                                                                          \n",
       "          \u001b[32m\"title\"\u001b[0m: \u001b[32m\"Tesla, Inc. \u001b[0m\u001b[32m(\u001b[0m\u001b[32mTSLA\u001b[0m\u001b[32m)\u001b[0m\u001b[32m Stock Price, Quote, News & History | Nasdaq\"\u001b[0m,                               \n",
       "          \u001b[32m\"url\"\u001b[0m: \u001b[32m\"https://www.nasdaq.com/market-activity/stocks/tsla\"\u001b[0m,                                             \n",
       "          \u001b[32m\"description\"\u001b[0m: \u001b[32m\" Discover real-time Tesla, Inc. Common Stock \u001b[0m\u001b[32m(\u001b[0m\u001b[32mTSLA\u001b[0m\u001b[32m)\u001b[0m\u001b[32m stock prices, quotes, historical \u001b[0m    \n",
       "      \u001b[32mdata, news, and Insights for informed trading and investment decisions. \"\u001b[0m                                    \n",
       "        \u001b[1m}\u001b[0m,                                                                                                         \n",
       "        \u001b[1m{\u001b[0m                                                                                                          \n",
       "          \u001b[32m\"title\"\u001b[0m: \u001b[32m\"Tesla Inc Share Price, TSLA Stock Price Quote Today - Groww\"\u001b[0m,                                  \n",
       "          \u001b[32m\"url\"\u001b[0m: \u001b[32m\"https://groww.in/us-stocks/tsla\"\u001b[0m,                                                                \n",
       "          \u001b[32m\"description\"\u001b[0m: \u001b[32m\" Get the LIVE share price of Tesla Inc\u001b[0m\u001b[32m(\u001b[0m\u001b[32mTSLA\u001b[0m\u001b[32m)\u001b[0m\u001b[32m and stock performance in one place to \u001b[0m      \n",
       "      \u001b[32mstrengthen your trading strategy in US stocks. Now Start Investing in\\u00a0... \"\u001b[0m                             \n",
       "        \u001b[1m}\u001b[0m,                                                                                                         \n",
       "        \u001b[1m{\u001b[0m                                                                                                          \n",
       "          \u001b[32m\"title\"\u001b[0m: \u001b[32m\"TSLA Stock Quote Price and Forecast - CNN\"\u001b[0m,                                                    \n",
       "          \u001b[32m\"url\"\u001b[0m: \u001b[32m\"https://www.cnn.com/markets/stocks/TSLA\"\u001b[0m,                                                        \n",
       "          \u001b[32m\"description\"\u001b[0m: \u001b[32m\" ... Price change. The price of TSLA shares has increased $1.07 since the market last \u001b[0m   \n",
       "      \u001b[32mclosed. This is a 0.39% rise. Closed at $273.13. The stock has since dropped\\u00a0... \"\u001b[0m                      \n",
       "        \u001b[1m}\u001b[0m                                                                                                          \n",
       "      \u001b[1m]\u001b[0m                                                                                                            \n"
      ]
     },
     "metadata": {},
     "output_type": "display_data"
    },
    {
     "data": {
      "text/html": [
       "<pre style=\"white-space:pre;overflow-x:auto;line-height:normal;font-family:Menlo,'DejaVu Sans Mono',consolas,'Courier New',monospace\"><span style=\"color: #008000; text-decoration-color: #008000\">DEBUG</span> **********************  TOOL METRICS  **********************                                                 \n",
       "</pre>\n"
      ],
      "text/plain": [
       "\u001b[32mDEBUG\u001b[0m **********************  TOOL METRICS  **********************                                                 \n"
      ]
     },
     "metadata": {},
     "output_type": "display_data"
    },
    {
     "data": {
      "text/html": [
       "<pre style=\"white-space:pre;overflow-x:auto;line-height:normal;font-family:Menlo,'DejaVu Sans Mono',consolas,'Courier New',monospace\"><span style=\"color: #008000; text-decoration-color: #008000\">DEBUG</span> * Time:                        <span style=\"color: #008080; text-decoration-color: #008080; font-weight: bold\">0.</span>4823s                                                                       \n",
       "</pre>\n"
      ],
      "text/plain": [
       "\u001b[32mDEBUG\u001b[0m * Time:                        \u001b[1;36m0.\u001b[0m4823s                                                                       \n"
      ]
     },
     "metadata": {},
     "output_type": "display_data"
    },
    {
     "data": {
      "text/html": [
       "<pre style=\"white-space:pre;overflow-x:auto;line-height:normal;font-family:Menlo,'DejaVu Sans Mono',consolas,'Courier New',monospace\"><span style=\"color: #008000; text-decoration-color: #008000\">DEBUG</span> **********************  TOOL METRICS  **********************                                                 \n",
       "</pre>\n"
      ],
      "text/plain": [
       "\u001b[32mDEBUG\u001b[0m **********************  TOOL METRICS  **********************                                                 \n"
      ]
     },
     "metadata": {},
     "output_type": "display_data"
    },
    {
     "data": {
      "text/html": [
       "<pre style=\"white-space:pre;overflow-x:auto;line-height:normal;font-family:Menlo,'DejaVu Sans Mono',consolas,'Courier New',monospace\">                                                                                                                   \n",
       "</pre>\n"
      ],
      "text/plain": [
       "                                                                                                                   \n"
      ]
     },
     "metadata": {},
     "output_type": "display_data"
    },
    {
     "data": {
      "text/html": [
       "<pre style=\"white-space:pre;overflow-x:auto;line-height:normal;font-family:Menlo,'DejaVu Sans Mono',consolas,'Courier New',monospace\"><span style=\"color: #008000; text-decoration-color: #008000\">DEBUG</span> =========================== tool ===========================                                                 \n",
       "</pre>\n"
      ],
      "text/plain": [
       "\u001b[32mDEBUG\u001b[0m =========================== tool ===========================                                                 \n"
      ]
     },
     "metadata": {},
     "output_type": "display_data"
    },
    {
     "data": {
      "text/html": [
       "<pre style=\"white-space:pre;overflow-x:auto;line-height:normal;font-family:Menlo,'DejaVu Sans Mono',consolas,'Courier New',monospace\"><span style=\"color: #008000; text-decoration-color: #008000\">DEBUG</span> Tool call Id: call_ec0n                                                                                      \n",
       "</pre>\n"
      ],
      "text/plain": [
       "\u001b[32mDEBUG\u001b[0m Tool call Id: call_ec0n                                                                                      \n"
      ]
     },
     "metadata": {},
     "output_type": "display_data"
    },
    {
     "data": {
      "text/html": [
       "<pre style=\"white-space:pre;overflow-x:auto;line-height:normal;font-family:Menlo,'DejaVu Sans Mono',consolas,'Courier New',monospace\"><span style=\"color: #008000; text-decoration-color: #008000\">DEBUG</span> <span style=\"font-weight: bold\">[</span>                                                                                                            \n",
       "        <span style=\"font-weight: bold\">{</span>                                                                                                          \n",
       "          <span style=\"color: #008000; text-decoration-color: #008000\">\"title\"</span>: <span style=\"color: #008000; text-decoration-color: #008000\">\"\"</span>,                                                                                             \n",
       "          <span style=\"color: #008000; text-decoration-color: #008000\">\"url\"</span>:                                                                                                   \n",
       "      <span style=\"color: #008000; text-decoration-color: #008000\">\"https://www.lalsace.fr/magazine-automobile/2022/05/14/le-logo-tesla-representerait-il-plus-qu-un-t\"</span>,        \n",
       "          <span style=\"color: #008000; text-decoration-color: #008000\">\"description\"</span>: <span style=\"color: #008000; text-decoration-color: #008000\">\" Tesla Inc. est un constructeur automobile de voitures \\u00e9lectriques fond\\u00e9 en </span>   \n",
       "      <span style=\"color: #008000; text-decoration-color: #008000\">2003 \\u00e0 San Carlos, en Californie, par Martin Eberhard et Marc Tarpenning.   Wikip\\u00e9dia \"</span>            \n",
       "        <span style=\"font-weight: bold\">}</span>,                                                                                                         \n",
       "        <span style=\"font-weight: bold\">{</span>                                                                                                          \n",
       "          <span style=\"color: #008000; text-decoration-color: #008000\">\"title\"</span>: <span style=\"color: #008000; text-decoration-color: #008000\">\"Tesla Inc. Stock Quote (U.S.: Nasdaq) - TSLA - MarketWatch\"</span>,                                   \n",
       "          <span style=\"color: #008000; text-decoration-color: #008000\">\"url\"</span>: <span style=\"color: #008000; text-decoration-color: #008000\">\"https://www.marketwatch.com/investing/stock/tsla\"</span>,                                               \n",
       "          <span style=\"color: #008000; text-decoration-color: #008000\">\"description\"</span>: <span style=\"color: #008000; text-decoration-color: #008000\">\" Key Data. Open $275.58; Day Range 260.79 - 276.10; 52 Week Range 138.80 - 488.54; Market</span>\n",
       "      <span style=\"color: #008000; text-decoration-color: #008000\">Cap $878.53B; Shares Outstanding 3.22B; Public Float 2.8B\\u00a0... \"</span>                                         \n",
       "        <span style=\"font-weight: bold\">}</span>,                                                                                                         \n",
       "        <span style=\"font-weight: bold\">{</span>                                                                                                          \n",
       "          <span style=\"color: #008000; text-decoration-color: #008000\">\"title\"</span>: <span style=\"color: #008000; text-decoration-color: #008000\">\"\"</span>,                                                                                             \n",
       "          <span style=\"color: #008000; text-decoration-color: #008000\">\"url\"</span>: <span style=\"color: #008000; text-decoration-color: #008000\">\"https://www.google.com/intl/fr_in/googlefinance/disclaimer/?sa=X\"</span>,                               \n",
       "          <span style=\"color: #008000; text-decoration-color: #008000\">\"description\"</span>: <span style=\"color: #008000; text-decoration-color: #008000\">\"/\"</span>                                                                                       \n",
       "        <span style=\"font-weight: bold\">}</span>,                                                                                                         \n",
       "        <span style=\"font-weight: bold\">{</span>                                                                                                          \n",
       "          <span style=\"color: #008000; text-decoration-color: #008000\">\"title\"</span>: <span style=\"color: #008000; text-decoration-color: #008000\">\"Tesla, Inc. (TSLA) Stock Price, News, Quote &amp; History - Yahoo Finance\"</span>,                        \n",
       "          <span style=\"color: #008000; text-decoration-color: #008000\">\"url\"</span>: <span style=\"color: #008000; text-decoration-color: #008000\">\"https://finance.yahoo.com/quote/TSLA/\"</span>,                                                          \n",
       "          <span style=\"color: #008000; text-decoration-color: #008000\">\"description\"</span>: <span style=\"color: #008000; text-decoration-color: #008000\">\" Find the latest Tesla, Inc. (TSLA) stock quote, history, news and other vital </span>          \n",
       "      <span style=\"color: #008000; text-decoration-color: #008000\">information to help you with your stock trading and investing. \"</span>                                             \n",
       "        <span style=\"font-weight: bold\">}</span>,                                                                                                         \n",
       "        <span style=\"font-weight: bold\">{</span>                                                                                                          \n",
       "          <span style=\"color: #008000; text-decoration-color: #008000\">\"title\"</span>: <span style=\"color: #008000; text-decoration-color: #008000\">\"TSLA: Tesla Inc - Stock Price, Quote and News - CNBC\"</span>,                                         \n",
       "          <span style=\"color: #008000; text-decoration-color: #008000\">\"url\"</span>: <span style=\"color: #008000; text-decoration-color: #008000\">\"https://www.cnbc.com/quotes/TSLA\"</span>,                                                               \n",
       "          <span style=\"color: #008000; text-decoration-color: #008000\">\"description\"</span>: <span style=\"color: #008000; text-decoration-color: #008000\">\" Tesla Inc TSLA:NASDAQ \\u00b7 Open275.57 \\u00b7 Day High276.10 \\u00b7 Day Low260.79 </span>     \n",
       "      <span style=\"color: #008000; text-decoration-color: #008000\">\\u00b7 Prev Close273.13 \\u00b7 52 Week High488.54 \\u00b7 52 Week High Date12/18/24 \\u00b7 52 Week Low138.80 </span> \n",
       "      <span style=\"color: #008000; text-decoration-color: #008000\">\\u00b7 52\\u00a0... \"</span>                                                                                         \n",
       "        <span style=\"font-weight: bold\">}</span>,                                                                                                         \n",
       "        <span style=\"font-weight: bold\">{</span>                                                                                                          \n",
       "          <span style=\"color: #008000; text-decoration-color: #008000\">\"title\"</span>: <span style=\"color: #008000; text-decoration-color: #008000\">\"Tesla Inc. Share Price Today (NASDAQ: TSLA) - INDmoney\"</span>,                                       \n",
       "          <span style=\"color: #008000; text-decoration-color: #008000\">\"url\"</span>: <span style=\"color: #008000; text-decoration-color: #008000\">\"https://www.indmoney.com/us-stocks/tsla/tesla-inc-share-price\"</span>,                                  \n",
       "          <span style=\"color: #008000; text-decoration-color: #008000\">\"description\"</span>: <span style=\"color: #008000; text-decoration-color: #008000\">\" Avis   4,7  (371\\u202f551) \"</span>                                                            \n",
       "        <span style=\"font-weight: bold\">}</span>,                                                                                                         \n",
       "        <span style=\"font-weight: bold\">{</span>                                                                                                          \n",
       "          <span style=\"color: #008000; text-decoration-color: #008000\">\"title\"</span>: <span style=\"color: #008000; text-decoration-color: #008000\">\"Tesla, Inc. (TSLA) Stock Price, Quote, News &amp; History | Nasdaq\"</span>,                               \n",
       "          <span style=\"color: #008000; text-decoration-color: #008000\">\"url\"</span>: <span style=\"color: #008000; text-decoration-color: #008000\">\"https://www.nasdaq.com/market-activity/stocks/tsla\"</span>,                                             \n",
       "          <span style=\"color: #008000; text-decoration-color: #008000\">\"description\"</span>: <span style=\"color: #008000; text-decoration-color: #008000\">\" Discover real-time Tesla, Inc. Common Stock (TSLA) stock prices, quotes, historical </span>    \n",
       "      <span style=\"color: #008000; text-decoration-color: #008000\">data, news, and Insights for informed trading and investment decisions. \"</span>                                    \n",
       "        <span style=\"font-weight: bold\">}</span>,                                                                                                         \n",
       "        <span style=\"font-weight: bold\">{</span>                                                                                                          \n",
       "          <span style=\"color: #008000; text-decoration-color: #008000\">\"title\"</span>: <span style=\"color: #008000; text-decoration-color: #008000\">\"Tesla Inc Share Price, TSLA Stock Price Quote Today - Groww\"</span>,                                  \n",
       "          <span style=\"color: #008000; text-decoration-color: #008000\">\"url\"</span>: <span style=\"color: #008000; text-decoration-color: #008000\">\"https://groww.in/us-stocks/tsla\"</span>,                                                                \n",
       "          <span style=\"color: #008000; text-decoration-color: #008000\">\"description\"</span>: <span style=\"color: #008000; text-decoration-color: #008000\">\" The current Tesla Inc share price is $273.13 as of 27 Mar '25. What is the Market Cap of</span>\n",
       "      <span style=\"color: #008000; text-decoration-color: #008000\">Tesla Inc? The Tesla Inc market cap is $878.52B as of 27 Mar '25\\u00a0... \"</span>                                  \n",
       "        <span style=\"font-weight: bold\">}</span>,                                                                                                         \n",
       "        <span style=\"font-weight: bold\">{</span>                                                                                                          \n",
       "          <span style=\"color: #008000; text-decoration-color: #008000\">\"title\"</span>: <span style=\"color: #008000; text-decoration-color: #008000\">\"TSLA Stock Quote Price and Forecast - CNN\"</span>,                                                    \n",
       "          <span style=\"color: #008000; text-decoration-color: #008000\">\"url\"</span>: <span style=\"color: #008000; text-decoration-color: #008000\">\"https://www.cnn.com/markets/stocks/TSLA\"</span>,                                                        \n",
       "          <span style=\"color: #008000; text-decoration-color: #008000\">\"description\"</span>: <span style=\"color: #008000; text-decoration-color: #008000\">\" View Tesla, Inc. TSLA stock quote prices, financial information, real ... Tesla, Inc. </span>  \n",
       "      <span style=\"color: #008000; text-decoration-color: #008000\">TSLA. Facts Insights Learn. 272.13. - 16.01. 5.56%. Today. Current\\u00a0... \"</span>                                \n",
       "        <span style=\"font-weight: bold\">}</span>,                                                                                                         \n",
       "        <span style=\"font-weight: bold\">{</span>                                                                                                          \n",
       "          <span style=\"color: #008000; text-decoration-color: #008000\">\"title\"</span>: <span style=\"color: #008000; text-decoration-color: #008000\">\"TSLA Stock Price \\u2014 Tesla Chart \\u2014 TradingView \\u2014 India\"</span>,                          \n",
       "          <span style=\"color: #008000; text-decoration-color: #008000\">\"url\"</span>: <span style=\"color: #008000; text-decoration-color: #008000\">\"https://in.tradingview.com/symbols/NASDAQ-TSLA/\"</span>,                                                \n",
       "          <span style=\"color: #008000; text-decoration-color: #008000\">\"description\"</span>: <span style=\"color: #008000; text-decoration-color: #008000\">\" The current price of TSLA is 273.13 USD \\u2014 it has decreased by \\u22125.58% in the </span>  \n",
       "      <span style=\"color: #008000; text-decoration-color: #008000\">past 24 hours. Watch Tesla stock price performance more closely on the chart. \"</span>                              \n",
       "        <span style=\"font-weight: bold\">}</span>                                                                                                          \n",
       "      <span style=\"font-weight: bold\">]</span>                                                                                                            \n",
       "</pre>\n"
      ],
      "text/plain": [
       "\u001b[32mDEBUG\u001b[0m \u001b[1m[\u001b[0m                                                                                                            \n",
       "        \u001b[1m{\u001b[0m                                                                                                          \n",
       "          \u001b[32m\"title\"\u001b[0m: \u001b[32m\"\"\u001b[0m,                                                                                             \n",
       "          \u001b[32m\"url\"\u001b[0m:                                                                                                   \n",
       "      \u001b[32m\"https://www.lalsace.fr/magazine-automobile/2022/05/14/le-logo-tesla-representerait-il-plus-qu-un-t\"\u001b[0m,        \n",
       "          \u001b[32m\"description\"\u001b[0m: \u001b[32m\" Tesla Inc. est un constructeur automobile de voitures \\u00e9lectriques fond\\u00e9 en \u001b[0m   \n",
       "      \u001b[32m2003 \\u00e0 San Carlos, en Californie, par Martin Eberhard et Marc Tarpenning.   Wikip\\u00e9dia \"\u001b[0m            \n",
       "        \u001b[1m}\u001b[0m,                                                                                                         \n",
       "        \u001b[1m{\u001b[0m                                                                                                          \n",
       "          \u001b[32m\"title\"\u001b[0m: \u001b[32m\"Tesla Inc. Stock Quote \u001b[0m\u001b[32m(\u001b[0m\u001b[32mU.S.: Nasdaq\u001b[0m\u001b[32m)\u001b[0m\u001b[32m - TSLA - MarketWatch\"\u001b[0m,                                   \n",
       "          \u001b[32m\"url\"\u001b[0m: \u001b[32m\"https://www.marketwatch.com/investing/stock/tsla\"\u001b[0m,                                               \n",
       "          \u001b[32m\"description\"\u001b[0m: \u001b[32m\" Key Data. Open $275.58; Day Range 260.79 - 276.10; 52 Week Range 138.80 - 488.54; Market\u001b[0m\n",
       "      \u001b[32mCap $878.53B; Shares Outstanding 3.22B; Public Float 2.8B\\u00a0... \"\u001b[0m                                         \n",
       "        \u001b[1m}\u001b[0m,                                                                                                         \n",
       "        \u001b[1m{\u001b[0m                                                                                                          \n",
       "          \u001b[32m\"title\"\u001b[0m: \u001b[32m\"\"\u001b[0m,                                                                                             \n",
       "          \u001b[32m\"url\"\u001b[0m: \u001b[32m\"https://www.google.com/intl/fr_in/googlefinance/disclaimer/?\u001b[0m\u001b[32msa\u001b[0m\u001b[32m=\u001b[0m\u001b[32mX\"\u001b[0m,                               \n",
       "          \u001b[32m\"description\"\u001b[0m: \u001b[32m\"/\"\u001b[0m                                                                                       \n",
       "        \u001b[1m}\u001b[0m,                                                                                                         \n",
       "        \u001b[1m{\u001b[0m                                                                                                          \n",
       "          \u001b[32m\"title\"\u001b[0m: \u001b[32m\"Tesla, Inc. \u001b[0m\u001b[32m(\u001b[0m\u001b[32mTSLA\u001b[0m\u001b[32m)\u001b[0m\u001b[32m Stock Price, News, Quote & History - Yahoo Finance\"\u001b[0m,                        \n",
       "          \u001b[32m\"url\"\u001b[0m: \u001b[32m\"https://finance.yahoo.com/quote/TSLA/\"\u001b[0m,                                                          \n",
       "          \u001b[32m\"description\"\u001b[0m: \u001b[32m\" Find the latest Tesla, Inc. \u001b[0m\u001b[32m(\u001b[0m\u001b[32mTSLA\u001b[0m\u001b[32m)\u001b[0m\u001b[32m stock quote, history, news and other vital \u001b[0m          \n",
       "      \u001b[32minformation to help you with your stock trading and investing. \"\u001b[0m                                             \n",
       "        \u001b[1m}\u001b[0m,                                                                                                         \n",
       "        \u001b[1m{\u001b[0m                                                                                                          \n",
       "          \u001b[32m\"title\"\u001b[0m: \u001b[32m\"TSLA: Tesla Inc - Stock Price, Quote and News - CNBC\"\u001b[0m,                                         \n",
       "          \u001b[32m\"url\"\u001b[0m: \u001b[32m\"https://www.cnbc.com/quotes/TSLA\"\u001b[0m,                                                               \n",
       "          \u001b[32m\"description\"\u001b[0m: \u001b[32m\" Tesla Inc TSLA:NASDAQ \\u00b7 Open275.57 \\u00b7 Day High276.10 \\u00b7 Day Low260.79 \u001b[0m     \n",
       "      \u001b[32m\\u00b7 Prev Close273.13 \\u00b7 52 Week High488.54 \\u00b7 52 Week High Date12/18/24 \\u00b7 52 Week Low138.80 \u001b[0m \n",
       "      \u001b[32m\\u00b7 52\\u00a0... \"\u001b[0m                                                                                         \n",
       "        \u001b[1m}\u001b[0m,                                                                                                         \n",
       "        \u001b[1m{\u001b[0m                                                                                                          \n",
       "          \u001b[32m\"title\"\u001b[0m: \u001b[32m\"Tesla Inc. Share Price Today \u001b[0m\u001b[32m(\u001b[0m\u001b[32mNASDAQ: TSLA\u001b[0m\u001b[32m)\u001b[0m\u001b[32m - INDmoney\"\u001b[0m,                                       \n",
       "          \u001b[32m\"url\"\u001b[0m: \u001b[32m\"https://www.indmoney.com/us-stocks/tsla/tesla-inc-share-price\"\u001b[0m,                                  \n",
       "          \u001b[32m\"description\"\u001b[0m: \u001b[32m\" Avis   4,7  \u001b[0m\u001b[32m(\u001b[0m\u001b[32m371\\u202f551\u001b[0m\u001b[32m)\u001b[0m\u001b[32m \"\u001b[0m                                                            \n",
       "        \u001b[1m}\u001b[0m,                                                                                                         \n",
       "        \u001b[1m{\u001b[0m                                                                                                          \n",
       "          \u001b[32m\"title\"\u001b[0m: \u001b[32m\"Tesla, Inc. \u001b[0m\u001b[32m(\u001b[0m\u001b[32mTSLA\u001b[0m\u001b[32m)\u001b[0m\u001b[32m Stock Price, Quote, News & History | Nasdaq\"\u001b[0m,                               \n",
       "          \u001b[32m\"url\"\u001b[0m: \u001b[32m\"https://www.nasdaq.com/market-activity/stocks/tsla\"\u001b[0m,                                             \n",
       "          \u001b[32m\"description\"\u001b[0m: \u001b[32m\" Discover real-time Tesla, Inc. Common Stock \u001b[0m\u001b[32m(\u001b[0m\u001b[32mTSLA\u001b[0m\u001b[32m)\u001b[0m\u001b[32m stock prices, quotes, historical \u001b[0m    \n",
       "      \u001b[32mdata, news, and Insights for informed trading and investment decisions. \"\u001b[0m                                    \n",
       "        \u001b[1m}\u001b[0m,                                                                                                         \n",
       "        \u001b[1m{\u001b[0m                                                                                                          \n",
       "          \u001b[32m\"title\"\u001b[0m: \u001b[32m\"Tesla Inc Share Price, TSLA Stock Price Quote Today - Groww\"\u001b[0m,                                  \n",
       "          \u001b[32m\"url\"\u001b[0m: \u001b[32m\"https://groww.in/us-stocks/tsla\"\u001b[0m,                                                                \n",
       "          \u001b[32m\"description\"\u001b[0m: \u001b[32m\" The current Tesla Inc share price is $273.13 as of 27 Mar '25. What is the Market Cap of\u001b[0m\n",
       "      \u001b[32mTesla Inc? The Tesla Inc market cap is $878.52B as of 27 Mar '25\\u00a0... \"\u001b[0m                                  \n",
       "        \u001b[1m}\u001b[0m,                                                                                                         \n",
       "        \u001b[1m{\u001b[0m                                                                                                          \n",
       "          \u001b[32m\"title\"\u001b[0m: \u001b[32m\"TSLA Stock Quote Price and Forecast - CNN\"\u001b[0m,                                                    \n",
       "          \u001b[32m\"url\"\u001b[0m: \u001b[32m\"https://www.cnn.com/markets/stocks/TSLA\"\u001b[0m,                                                        \n",
       "          \u001b[32m\"description\"\u001b[0m: \u001b[32m\" View Tesla, Inc. TSLA stock quote prices, financial information, real ... Tesla, Inc. \u001b[0m  \n",
       "      \u001b[32mTSLA. Facts Insights Learn. 272.13. - 16.01. 5.56%. Today. Current\\u00a0... \"\u001b[0m                                \n",
       "        \u001b[1m}\u001b[0m,                                                                                                         \n",
       "        \u001b[1m{\u001b[0m                                                                                                          \n",
       "          \u001b[32m\"title\"\u001b[0m: \u001b[32m\"TSLA Stock Price \\u2014 Tesla Chart \\u2014 TradingView \\u2014 India\"\u001b[0m,                          \n",
       "          \u001b[32m\"url\"\u001b[0m: \u001b[32m\"https://in.tradingview.com/symbols/NASDAQ-TSLA/\"\u001b[0m,                                                \n",
       "          \u001b[32m\"description\"\u001b[0m: \u001b[32m\" The current price of TSLA is 273.13 USD \\u2014 it has decreased by \\u22125.58% in the \u001b[0m  \n",
       "      \u001b[32mpast 24 hours. Watch Tesla stock price performance more closely on the chart. \"\u001b[0m                              \n",
       "        \u001b[1m}\u001b[0m                                                                                                          \n",
       "      \u001b[1m]\u001b[0m                                                                                                            \n"
      ]
     },
     "metadata": {},
     "output_type": "display_data"
    },
    {
     "data": {
      "text/html": [
       "<pre style=\"white-space:pre;overflow-x:auto;line-height:normal;font-family:Menlo,'DejaVu Sans Mono',consolas,'Courier New',monospace\"><span style=\"color: #008000; text-decoration-color: #008000\">DEBUG</span> **********************  TOOL METRICS  **********************                                                 \n",
       "</pre>\n"
      ],
      "text/plain": [
       "\u001b[32mDEBUG\u001b[0m **********************  TOOL METRICS  **********************                                                 \n"
      ]
     },
     "metadata": {},
     "output_type": "display_data"
    },
    {
     "data": {
      "text/html": [
       "<pre style=\"white-space:pre;overflow-x:auto;line-height:normal;font-family:Menlo,'DejaVu Sans Mono',consolas,'Courier New',monospace\"><span style=\"color: #008000; text-decoration-color: #008000\">DEBUG</span> * Time:                        <span style=\"color: #008080; text-decoration-color: #008080; font-weight: bold\">0.</span>6070s                                                                       \n",
       "</pre>\n"
      ],
      "text/plain": [
       "\u001b[32mDEBUG\u001b[0m * Time:                        \u001b[1;36m0.\u001b[0m6070s                                                                       \n"
      ]
     },
     "metadata": {},
     "output_type": "display_data"
    },
    {
     "data": {
      "text/html": [
       "<pre style=\"white-space:pre;overflow-x:auto;line-height:normal;font-family:Menlo,'DejaVu Sans Mono',consolas,'Courier New',monospace\"><span style=\"color: #008000; text-decoration-color: #008000\">DEBUG</span> **********************  TOOL METRICS  **********************                                                 \n",
       "</pre>\n"
      ],
      "text/plain": [
       "\u001b[32mDEBUG\u001b[0m **********************  TOOL METRICS  **********************                                                 \n"
      ]
     },
     "metadata": {},
     "output_type": "display_data"
    },
    {
     "data": {
      "text/html": [
       "<pre style=\"white-space:pre;overflow-x:auto;line-height:normal;font-family:Menlo,'DejaVu Sans Mono',consolas,'Courier New',monospace\">                                                                                                                   \n",
       "</pre>\n"
      ],
      "text/plain": [
       "                                                                                                                   \n"
      ]
     },
     "metadata": {},
     "output_type": "display_data"
    },
    {
     "data": {
      "text/html": [
       "<pre style=\"white-space:pre;overflow-x:auto;line-height:normal;font-family:Menlo,'DejaVu Sans Mono',consolas,'Courier New',monospace\"><span style=\"color: #008000; text-decoration-color: #008000\">DEBUG</span> ======================== assistant =========================                                                 \n",
       "</pre>\n"
      ],
      "text/plain": [
       "\u001b[32mDEBUG\u001b[0m ======================== assistant =========================                                                 \n"
      ]
     },
     "metadata": {},
     "output_type": "display_data"
    },
    {
     "data": {
      "text/html": [
       "<pre style=\"white-space:pre;overflow-x:auto;line-height:normal;font-family:Menlo,'DejaVu Sans Mono',consolas,'Courier New',monospace\"><span style=\"color: #008000; text-decoration-color: #008000\">DEBUG</span> Here are the latest news items about Tesla's share price:                                                    \n",
       "                                                                                                                   \n",
       "      <span style=\"color: #008080; text-decoration-color: #008080; font-weight: bold\">1</span>. <span style=\"font-weight: bold\">[</span>Tesla, Inc. <span style=\"font-weight: bold\">(</span>TSLA<span style=\"font-weight: bold\">)</span> Stock Price, News, Quote &amp; History - Yahoo                                            \n",
       "      Finance<span style=\"font-weight: bold\">](</span><span style=\"color: #0000ff; text-decoration-color: #0000ff; text-decoration: underline\">https://finance.yahoo.com/quote/TSLA/)</span>                                                              \n",
       "         - Overview of Tesla Inc stock including the current price, market capitalization, key facts, and recent   \n",
       "      performance.                                                                                                 \n",
       "                                                                                                                   \n",
       "      <span style=\"color: #008080; text-decoration-color: #008080; font-weight: bold\">2</span>. <span style=\"font-weight: bold\">[</span>TSLA: Tesla Inc - Stock Price, Quote and News - CNBC<span style=\"font-weight: bold\">](</span><span style=\"color: #0000ff; text-decoration-color: #0000ff; text-decoration: underline\">https://www.cnbc.com/quotes/TSLA/)</span>                 \n",
       "         - CNBC provides real-time Tesla Inc stock prices and other relevant financial data.                       \n",
       "                                                                                                                   \n",
       "      <span style=\"color: #008080; text-decoration-color: #008080; font-weight: bold\">3</span>. <span style=\"font-weight: bold\">[</span>Tesla Stock Drops. Will It Fall for a 10th Week in a                                                     \n",
       "      Row?<span style=\"font-weight: bold\">](</span><span style=\"color: #0000ff; text-decoration-color: #0000ff; text-decoration: underline\">https://www.barrons.com/articles/tesla-stock-price-today-losing-streak-beb0f720)</span>                       \n",
       "         - A detailed article from Barron's discussing Tesla's recent stock performance and the possibility of a   \n",
       "      10th consecutive weekly fall.                                                                                \n",
       "                                                                                                                   \n",
       "      <span style=\"color: #008080; text-decoration-color: #008080; font-weight: bold\">4</span>. <span style=\"font-weight: bold\">[</span>Tesla Inc. <span style=\"font-weight: bold\">(</span>TSLA<span style=\"font-weight: bold\">)</span> Stock Price, Quote, News &amp; History |                                                   \n",
       "      Nasdaq<span style=\"font-weight: bold\">](</span><span style=\"color: #0000ff; text-decoration-color: #0000ff; text-decoration: underline\">https://www.nasdaq.com/market-activity/stocks/tsla)</span>                                                  \n",
       "         - Nasdaq provides current Tesla stock prices, quotes, and other financial data, along with real-time      \n",
       "      actionable insights.                                                                                         \n",
       "                                                                                                                   \n",
       "      Please note, the actual stock price is subject to real-time market fluctuations and for the most accurate and\n",
       "      up-to-date information, consider visiting relevant financial news or market websites.                        \n",
       "</pre>\n"
      ],
      "text/plain": [
       "\u001b[32mDEBUG\u001b[0m Here are the latest news items about Tesla's share price:                                                    \n",
       "                                                                                                                   \n",
       "      \u001b[1;36m1\u001b[0m. \u001b[1m[\u001b[0mTesla, Inc. \u001b[1m(\u001b[0mTSLA\u001b[1m)\u001b[0m Stock Price, News, Quote & History - Yahoo                                            \n",
       "      Finance\u001b[1m]\u001b[0m\u001b[1m(\u001b[0m\u001b[4;94mhttps://finance.yahoo.com/quote/TSLA/\u001b[0m\u001b[4;94m)\u001b[0m                                                              \n",
       "         - Overview of Tesla Inc stock including the current price, market capitalization, key facts, and recent   \n",
       "      performance.                                                                                                 \n",
       "                                                                                                                   \n",
       "      \u001b[1;36m2\u001b[0m. \u001b[1m[\u001b[0mTSLA: Tesla Inc - Stock Price, Quote and News - CNBC\u001b[1m]\u001b[0m\u001b[1m(\u001b[0m\u001b[4;94mhttps://www.cnbc.com/quotes/TSLA/\u001b[0m\u001b[4;94m)\u001b[0m                 \n",
       "         - CNBC provides real-time Tesla Inc stock prices and other relevant financial data.                       \n",
       "                                                                                                                   \n",
       "      \u001b[1;36m3\u001b[0m. \u001b[1m[\u001b[0mTesla Stock Drops. Will It Fall for a 10th Week in a                                                     \n",
       "      Row?\u001b[1m]\u001b[0m\u001b[1m(\u001b[0m\u001b[4;94mhttps://www.barrons.com/articles/tesla-stock-price-today-losing-streak-beb0f720\u001b[0m\u001b[4;94m)\u001b[0m                       \n",
       "         - A detailed article from Barron's discussing Tesla's recent stock performance and the possibility of a   \n",
       "      10th consecutive weekly fall.                                                                                \n",
       "                                                                                                                   \n",
       "      \u001b[1;36m4\u001b[0m. \u001b[1m[\u001b[0mTesla Inc. \u001b[1m(\u001b[0mTSLA\u001b[1m)\u001b[0m Stock Price, Quote, News & History |                                                   \n",
       "      Nasdaq\u001b[1m]\u001b[0m\u001b[1m(\u001b[0m\u001b[4;94mhttps://www.nasdaq.com/market-activity/stocks/tsla\u001b[0m\u001b[4;94m)\u001b[0m                                                  \n",
       "         - Nasdaq provides current Tesla stock prices, quotes, and other financial data, along with real-time      \n",
       "      actionable insights.                                                                                         \n",
       "                                                                                                                   \n",
       "      Please note, the actual stock price is subject to real-time market fluctuations and for the most accurate and\n",
       "      up-to-date information, consider visiting relevant financial news or market websites.                        \n"
      ]
     },
     "metadata": {},
     "output_type": "display_data"
    },
    {
     "data": {
      "text/html": [
       "<pre style=\"white-space:pre;overflow-x:auto;line-height:normal;font-family:Menlo,'DejaVu Sans Mono',consolas,'Courier New',monospace\"><span style=\"color: #008000; text-decoration-color: #008000\">DEBUG</span> ************************  METRICS  *************************                                                 \n",
       "</pre>\n"
      ],
      "text/plain": [
       "\u001b[32mDEBUG\u001b[0m ************************  METRICS  *************************                                                 \n"
      ]
     },
     "metadata": {},
     "output_type": "display_data"
    },
    {
     "data": {
      "text/html": [
       "<pre style=\"white-space:pre;overflow-x:auto;line-height:normal;font-family:Menlo,'DejaVu Sans Mono',consolas,'Courier New',monospace\"><span style=\"color: #008000; text-decoration-color: #008000\">DEBUG</span> * Tokens:                      <span style=\"color: #808000; text-decoration-color: #808000\">input</span>=<span style=\"color: #008080; text-decoration-color: #008080; font-weight: bold\">2305</span>, <span style=\"color: #808000; text-decoration-color: #808000\">output</span>=<span style=\"color: #008080; text-decoration-color: #008080; font-weight: bold\">293</span>, <span style=\"color: #808000; text-decoration-color: #808000\">total</span>=<span style=\"color: #008080; text-decoration-color: #008080; font-weight: bold\">2598</span>                                            \n",
       "</pre>\n"
      ],
      "text/plain": [
       "\u001b[32mDEBUG\u001b[0m * Tokens:                      \u001b[33minput\u001b[0m=\u001b[1;36m2305\u001b[0m, \u001b[33moutput\u001b[0m=\u001b[1;36m293\u001b[0m, \u001b[33mtotal\u001b[0m=\u001b[1;36m2598\u001b[0m                                            \n"
      ]
     },
     "metadata": {},
     "output_type": "display_data"
    },
    {
     "data": {
      "text/html": [
       "<pre style=\"white-space:pre;overflow-x:auto;line-height:normal;font-family:Menlo,'DejaVu Sans Mono',consolas,'Courier New',monospace\"><span style=\"color: #008000; text-decoration-color: #008000\">DEBUG</span> * Time:                        <span style=\"color: #008080; text-decoration-color: #008080; font-weight: bold\">1.</span>7519s                                                                       \n",
       "</pre>\n"
      ],
      "text/plain": [
       "\u001b[32mDEBUG\u001b[0m * Time:                        \u001b[1;36m1.\u001b[0m7519s                                                                       \n"
      ]
     },
     "metadata": {},
     "output_type": "display_data"
    },
    {
     "data": {
      "text/html": [
       "<pre style=\"white-space:pre;overflow-x:auto;line-height:normal;font-family:Menlo,'DejaVu Sans Mono',consolas,'Courier New',monospace\"><span style=\"color: #008000; text-decoration-color: #008000\">DEBUG</span> * Tokens per second:           <span style=\"color: #008080; text-decoration-color: #008080; font-weight: bold\">167.2447</span> tokens/s                                                             \n",
       "</pre>\n"
      ],
      "text/plain": [
       "\u001b[32mDEBUG\u001b[0m * Tokens per second:           \u001b[1;36m167.2447\u001b[0m tokens/s                                                             \n"
      ]
     },
     "metadata": {},
     "output_type": "display_data"
    },
    {
     "data": {
      "text/html": [
       "<pre style=\"white-space:pre;overflow-x:auto;line-height:normal;font-family:Menlo,'DejaVu Sans Mono',consolas,'Courier New',monospace\"><span style=\"color: #008000; text-decoration-color: #008000\">DEBUG</span> * Additional metrics:          <span style=\"font-weight: bold\">{</span><span style=\"color: #008000; text-decoration-color: #008000\">'completion_time'</span>: <span style=\"color: #008080; text-decoration-color: #008080; font-weight: bold\">1.465</span>, <span style=\"color: #008000; text-decoration-color: #008000\">'prompt_time'</span>: <span style=\"color: #008080; text-decoration-color: #008080; font-weight: bold\">0.11802246</span>, <span style=\"color: #008000; text-decoration-color: #008000\">'queue_time'</span>:           \n",
       "      <span style=\"color: #008080; text-decoration-color: #008080; font-weight: bold\">0.05511500899999999</span>, <span style=\"color: #008000; text-decoration-color: #008000\">'total_time'</span>: <span style=\"color: #008080; text-decoration-color: #008080; font-weight: bold\">1.58302246</span><span style=\"font-weight: bold\">}</span>                                                               \n",
       "</pre>\n"
      ],
      "text/plain": [
       "\u001b[32mDEBUG\u001b[0m * Additional metrics:          \u001b[1m{\u001b[0m\u001b[32m'completion_time'\u001b[0m: \u001b[1;36m1.465\u001b[0m, \u001b[32m'prompt_time'\u001b[0m: \u001b[1;36m0.11802246\u001b[0m, \u001b[32m'queue_time'\u001b[0m:           \n",
       "      \u001b[1;36m0.05511500899999999\u001b[0m, \u001b[32m'total_time'\u001b[0m: \u001b[1;36m1.58302246\u001b[0m\u001b[1m}\u001b[0m                                                               \n"
      ]
     },
     "metadata": {},
     "output_type": "display_data"
    },
    {
     "data": {
      "text/html": [
       "<pre style=\"white-space:pre;overflow-x:auto;line-height:normal;font-family:Menlo,'DejaVu Sans Mono',consolas,'Courier New',monospace\"><span style=\"color: #008000; text-decoration-color: #008000\">DEBUG</span> ************************  METRICS  *************************                                                 \n",
       "</pre>\n"
      ],
      "text/plain": [
       "\u001b[32mDEBUG\u001b[0m ************************  METRICS  *************************                                                 \n"
      ]
     },
     "metadata": {},
     "output_type": "display_data"
    },
    {
     "data": {
      "text/html": [
       "<pre style=\"white-space:pre;overflow-x:auto;line-height:normal;font-family:Menlo,'DejaVu Sans Mono',consolas,'Courier New',monospace\">                                                                                                                   \n",
       "</pre>\n"
      ],
      "text/plain": [
       "                                                                                                                   \n"
      ]
     },
     "metadata": {},
     "output_type": "display_data"
    },
    {
     "data": {
      "text/html": [
       "<pre style=\"white-space:pre;overflow-x:auto;line-height:normal;font-family:Menlo,'DejaVu Sans Mono',consolas,'Courier New',monospace\"><span style=\"color: #008000; text-decoration-color: #008000\">DEBUG</span> -------------------  Groq Response End  --------------------                                                 \n",
       "</pre>\n"
      ],
      "text/plain": [
       "\u001b[32mDEBUG\u001b[0m -------------------  Groq Response End  --------------------                                                 \n"
      ]
     },
     "metadata": {},
     "output_type": "display_data"
    },
    {
     "data": {
      "text/html": [
       "<pre style=\"white-space:pre;overflow-x:auto;line-height:normal;font-family:Menlo,'DejaVu Sans Mono',consolas,'Courier New',monospace\">                                                                                                                   \n",
       "</pre>\n"
      ],
      "text/plain": [
       "                                                                                                                   \n"
      ]
     },
     "metadata": {},
     "output_type": "display_data"
    },
    {
     "data": {
      "text/html": [
       "<pre style=\"white-space:pre;overflow-x:auto;line-height:normal;font-family:Menlo,'DejaVu Sans Mono',consolas,'Courier New',monospace\"><span style=\"color: #008000; text-decoration-color: #008000\">DEBUG</span> Added <span style=\"color: #008080; text-decoration-color: #008080; font-weight: bold\">5</span> Messages to AgentMemory                                                                              \n",
       "</pre>\n"
      ],
      "text/plain": [
       "\u001b[32mDEBUG\u001b[0m Added \u001b[1;36m5\u001b[0m Messages to AgentMemory                                                                              \n"
      ]
     },
     "metadata": {},
     "output_type": "display_data"
    },
    {
     "data": {
      "text/html": [
       "<pre style=\"white-space:pre;overflow-x:auto;line-height:normal;font-family:Menlo,'DejaVu Sans Mono',consolas,'Courier New',monospace\"><span style=\"color: #008000; text-decoration-color: #008000\">DEBUG</span> Added AgentRun to AgentMemory                                                                                \n",
       "</pre>\n"
      ],
      "text/plain": [
       "\u001b[32mDEBUG\u001b[0m Added AgentRun to AgentMemory                                                                                \n"
      ]
     },
     "metadata": {},
     "output_type": "display_data"
    },
    {
     "data": {
      "text/html": [
       "<pre style=\"white-space:pre;overflow-x:auto;line-height:normal;font-family:Menlo,'DejaVu Sans Mono',consolas,'Courier New',monospace\"><span style=\"color: #008000; text-decoration-color: #008000\">DEBUG</span> --**-- Logging Agent Run                                                                                     \n",
       "</pre>\n"
      ],
      "text/plain": [
       "\u001b[32mDEBUG\u001b[0m --**-- Logging Agent Run                                                                                     \n"
      ]
     },
     "metadata": {},
     "output_type": "display_data"
    },
    {
     "data": {
      "text/html": [
       "<pre style=\"white-space:pre;overflow-x:auto;line-height:normal;font-family:Menlo,'DejaVu Sans Mono',consolas,'Courier New',monospace\"><span style=\"color: #008000; text-decoration-color: #008000\">DEBUG</span> **  Agent Run End: <span style=\"color: #ffff00; text-decoration-color: #ffff00\">3dee3040-f52f-4b41-8d65-ec9ea187c506</span>  ***                                                 \n",
       "</pre>\n"
      ],
      "text/plain": [
       "\u001b[32mDEBUG\u001b[0m **  Agent Run End: \u001b[93m3dee3040-f52f-4b41-8d65-ec9ea187c506\u001b[0m  ***                                                 \n"
      ]
     },
     "metadata": {},
     "output_type": "display_data"
    },
    {
     "data": {
      "text/html": [
       "<pre style=\"white-space:pre;overflow-x:auto;line-height:normal;font-family:Menlo,'DejaVu Sans Mono',consolas,'Courier New',monospace\"></pre>\n"
      ],
      "text/plain": []
     },
     "metadata": {},
     "output_type": "display_data"
    }
   ],
   "source": [
    "from agno.agent import Agent\n",
    "from agno.tools.googlesearch import GoogleSearchTools\n",
    "import os\n",
    "from dotenv import load_dotenv\n",
    "load_dotenv()\n",
    "from agno.models.groq import Groq\n",
    "os.environ['GROQ_API_KEY']=os.getenv('GROQ_API_KEY')\n",
    "agent = Agent(\n",
    "    model=Groq(id=\"qwen-2.5-32b\"),\n",
    "    tools=[GoogleSearchTools()],\n",
    "    description=\"You are a news agent that helps users find the latest news.\",\n",
    "    instructions=[\n",
    "        \"Given a topic by the user, respond with 4 latest news items about that topic.\",\n",
    "        \"Search for 10 news items and select the top 4 unique items.\",\n",
    "        \"Search in English and in French.\",\n",
    "    ],\n",
    "    show_tool_calls=True,\n",
    "    debug_mode=True,\n",
    ")\n",
    "\n",
    "agent.print_response(\"latest tesla share price\", markdown=True)"
   ]
  },
  {
   "cell_type": "code",
   "execution_count": null,
   "metadata": {},
   "outputs": [
    {
     "name": "stdout",
     "output_type": "stream",
     "text": [
      "[\n",
      "  {\n",
      "    \"title\": \"Krish Naik - KRISHAI Technologies Private Limited | LinkedIn\",\n",
      "    \"url\": \"https://in.linkedin.com/in/naikkrish\",\n",
      "    \"description\": \" Proven IT Professional with experience of 9 + years in Software Development & Project\\u2026 \\u00b7 KRISHAI Technologies Private Limited \\u00b7 PDA College of Engineering\\u00a0... \"\n",
      "  },\n",
      "  {\n",
      "    \"title\": \"Krish Naik\",\n",
      "    \"url\": \"https://krishnaik.in/\",\n",
      "    \"description\": \" Master Data Science & AI with Krish Naik! Access comprehensive courses, insightful tutorials, and personalized support to advance your skills. \"\n",
      "  },\n",
      "  {\n",
      "    \"title\": \"\",\n",
      "    \"url\": \"https://www.krishnaik.in/\",\n",
      "    \"description\": \" Krish Naik works as a lead data scientist, pioneering in machine learning, deep learning, and computer vision, and is an artificial intelligence practitioner, an educator, and a mentor, with over 7 years' experience in the industry. ...   Google Books \"\n",
      "  },\n",
      "  {\n",
      "    \"title\": \"Krish Naik - YouTube\",\n",
      "    \"url\": \"https://www.youtube.com/channel/UCNU_lfiiWBdtULKOw6X0Dig\",\n",
      "    \"description\": \" I am the Founder of KrishAI Technologies Private Limited and my experience is pioneering in machine learning, deep learning, and computer vision,an educator\\u00a0... \"\n",
      "  },\n",
      "  {\n",
      "    \"title\": \"Krish Naik | Chief AI Engineer - Udemy\",\n",
      "    \"url\": \"https://www.udemy.com/user/krish-naik/?srsltid=AfmBOorUrDpQcMJXBF8khYqi9zGqZWyHC3Va9p74wJDDWEFGVsIPFVS6\",\n",
      "    \"description\": \" I am the Ex Co-founder and Chief AI Engineer of iNeuron and my experience is pioneering in machine learning, deep learning, and computer vision,Generative\\u00a0... \"\n",
      "  }\n",
      "]\n"
     ]
    }
   ],
   "source": [
    "from agno.tools.googlesearch import GoogleSearchTools\n",
    "search_tool = GoogleSearchTools()\n",
    "response = search_tool.google_search(\"Who is Krish Naik\")\n",
    "print(response)\n"
   ]
  },
  {
   "cell_type": "code",
   "execution_count": null,
   "metadata": {},
   "outputs": [],
   "source": []
  }
 ],
 "metadata": {
  "kernelspec": {
   "display_name": "Python 3",
   "language": "python",
   "name": "python3"
  },
  "language_info": {
   "codemirror_mode": {
    "name": "ipython",
    "version": 3
   },
   "file_extension": ".py",
   "mimetype": "text/x-python",
   "name": "python",
   "nbconvert_exporter": "python",
   "pygments_lexer": "ipython3",
   "version": "3.11.0"
  }
 },
 "nbformat": 4,
 "nbformat_minor": 2
}

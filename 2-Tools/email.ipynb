{
 "cells": [
  {
   "cell_type": "code",
   "execution_count": 5,
   "metadata": {},
   "outputs": [
    {
     "data": {
      "text/html": [
       "<pre style=\"white-space:pre;overflow-x:auto;line-height:normal;font-family:Menlo,'DejaVu Sans Mono',consolas,'Courier New',monospace\"><span style=\"color: #008000; text-decoration-color: #008000\">DEBUG</span> Function: email_user registered with email_tools                                                             \n",
       "</pre>\n"
      ],
      "text/plain": [
       "\u001b[32mDEBUG\u001b[0m Function: email_user registered with email_tools                                                             \n"
      ]
     },
     "metadata": {},
     "output_type": "display_data"
    },
    {
     "data": {
      "application/vnd.jupyter.widget-view+json": {
       "model_id": "5b921ae0e0544059a4b5943a171d2733",
       "version_major": 2,
       "version_minor": 0
      },
      "text/plain": [
       "Output()"
      ]
     },
     "metadata": {},
     "output_type": "display_data"
    },
    {
     "data": {
      "text/html": [
       "<pre style=\"white-space:pre;overflow-x:auto;line-height:normal;font-family:Menlo,'DejaVu Sans Mono',consolas,'Courier New',monospace\"><span style=\"color: #000080; text-decoration-color: #000080\">INFO</span> Sending Email to sigmamale2404@gmail.com                                                                      \n",
       "</pre>\n"
      ],
      "text/plain": [
       "\u001b[34mINFO\u001b[0m Sending Email to sigmamale2404@gmail.com                                                                      \n"
      ]
     },
     "metadata": {},
     "output_type": "display_data"
    },
    {
     "data": {
      "text/html": [
       "<pre style=\"white-space:pre;overflow-x:auto;line-height:normal;font-family:Menlo,'DejaVu Sans Mono',consolas,'Courier New',monospace\"></pre>\n"
      ],
      "text/plain": []
     },
     "metadata": {},
     "output_type": "display_data"
    }
   ],
   "source": [
    "from agno.agent import Agent\n",
    "from agno.tools.email import EmailTools\n",
    "from agno.models.groq import Groq\n",
    "import os\n",
    "from dotenv import load_dotenv\n",
    "load_dotenv()\n",
    "os.environ[\"GROQ_API_KEY\"] = os.getenv(\"GROQ_API_KEY\")\n",
    "\n",
    "receiver_email = os.getenv('receiver_email')\n",
    "sender_email = os.getenv('sender_email')\n",
    "sender_name = \"Krish\"\n",
    "sender_passkey = os.getenv('sender_passkey')\n",
    "\n",
    "agent = Agent(\n",
    "    model=Groq(id=\"qwen-2.5-32b\"),\n",
    "    tools=[\n",
    "        EmailTools(\n",
    "            receiver_email=receiver_email,\n",
    "            sender_email=sender_email,\n",
    "            sender_name=sender_name,\n",
    "            sender_passkey=sender_passkey,\n",
    "        )\n",
    "    ],\n",
    "    # debug_mode=True\n",
    ")\n",
    "\n",
    "agent.print_response(\"send an email to sigmamale2404@gmail.com for asking to send notes of Agno course\")"
   ]
  },
  {
   "cell_type": "code",
   "execution_count": null,
   "metadata": {},
   "outputs": [],
   "source": []
  }
 ],
 "metadata": {
  "kernelspec": {
   "display_name": "Python 3",
   "language": "python",
   "name": "python3"
  },
  "language_info": {
   "codemirror_mode": {
    "name": "ipython",
    "version": 3
   },
   "file_extension": ".py",
   "mimetype": "text/x-python",
   "name": "python",
   "nbconvert_exporter": "python",
   "pygments_lexer": "ipython3",
   "version": "3.11.0"
  }
 },
 "nbformat": 4,
 "nbformat_minor": 2
}

{
 "cells": [
  {
   "cell_type": "code",
   "execution_count": 1,
   "id": "3e456f1b",
   "metadata": {},
   "outputs": [],
   "source": [
    "from agno.knowledge.pdf import PDFKnowledgeBase, PDFReader\n",
    "from agno.document.chunking.recursive import RecursiveChunking\n",
    "from agno.vectordb.qdrant import Qdrant\n",
    "\n",
    "def ingest_user_documents(user_id: str, folder_path: str):\n",
    "    collection_name = user_id  # Use user_id as the Qdrant collection name\n",
    "\n",
    "    knowledge_base = PDFKnowledgeBase(\n",
    "        path=folder_path,\n",
    "        vector_db=Qdrant(collection=collection_name, url=\"http://localhost:6333\"),\n",
    "        reader=PDFReader(chunk=True),\n",
    "        # chunking_strategy=RecursiveChunking(chunk_size=4000, overlap=300)\n",
    "    )\n",
    "\n",
    "    # Load and index the documents into Qdrant (only do once per user or when files change)\n",
    "    knowledge_base.load(recreate=False)\n"
   ]
  },
  {
   "cell_type": "code",
   "execution_count": 2,
   "id": "ac701719",
   "metadata": {},
   "outputs": [],
   "source": [
    "from agno.knowledge import AgentKnowledge\n",
    "from agno.embedder.openai import OpenAIEmbedder\n",
    "from agno.vectordb.qdrant import Qdrant\n",
    "from agno.agent import Agent\n",
    "from agno.models.openai import OpenAIChat\n",
    "import os\n",
    "from dotenv import load_dotenv\n",
    "load_dotenv()\n",
    "os.environ['OPENAI_API_KEY']=os.getenv('OPENAI_API_KEY')\n",
    "def create_user_agent(user_id: str):\n",
    "    collection_name = user_id  # Must match the collection used during ingestion\n",
    "\n",
    "    vector_db = Qdrant(\n",
    "        collection=collection_name,\n",
    "        url=\"http://localhost:6333\"\n",
    "    )\n",
    "\n",
    "    knowledge = AgentKnowledge(\n",
    "        vector_db=vector_db,\n",
    "        embedder=OpenAIEmbedder()\n",
    "    )\n",
    "\n",
    "    agent = Agent(\n",
    "        model=OpenAIChat(id=\"gpt-4.1-nano\"),\n",
    "        knowledge=knowledge,\n",
    "        search_knowledge=True,\n",
    "        user_id=user_id,\n",
    "        instructions=[\n",
    "            \"You are a helpful assistant that answers questions using the user's uploaded PDF documents.\",\n",
    "            \"Cite document names when helpful.\",\n",
    "            \"If the answer is not found, say so politely.\"\n",
    "        ]\n",
    "    )\n",
    "    return agent\n"
   ]
  },
  {
   "cell_type": "code",
   "execution_count": 6,
   "id": "7c5c1764",
   "metadata": {},
   "outputs": [
    {
     "data": {
      "text/html": [
       "<pre style=\"white-space:pre;overflow-x:auto;line-height:normal;font-family:Menlo,'DejaVu Sans Mono',consolas,'Courier New',monospace\"><span style=\"color: #000080; text-decoration-color: #000080\">INFO</span> Embedder not provided, using OpenAIEmbedder as default.                                                       \n",
       "</pre>\n"
      ],
      "text/plain": [
       "\u001b[34mINFO\u001b[0m Embedder not provided, using OpenAIEmbedder as default.                                                       \n"
      ]
     },
     "metadata": {},
     "output_type": "display_data"
    },
    {
     "data": {
      "text/html": [
       "<pre style=\"white-space:pre;overflow-x:auto;line-height:normal;font-family:Menlo,'DejaVu Sans Mono',consolas,'Courier New',monospace\"><span style=\"color: #000080; text-decoration-color: #000080\">INFO</span> Loading knowledge base                                                                                        \n",
       "</pre>\n"
      ],
      "text/plain": [
       "\u001b[34mINFO\u001b[0m Loading knowledge base                                                                                        \n"
      ]
     },
     "metadata": {},
     "output_type": "display_data"
    },
    {
     "data": {
      "text/html": [
       "<pre style=\"white-space:pre;overflow-x:auto;line-height:normal;font-family:Menlo,'DejaVu Sans Mono',consolas,'Courier New',monospace\"><span style=\"color: #000080; text-decoration-color: #000080\">INFO</span> Reading: Introduction                                                                                         \n",
       "</pre>\n"
      ],
      "text/plain": [
       "\u001b[34mINFO\u001b[0m Reading: Introduction                                                                                         \n"
      ]
     },
     "metadata": {},
     "output_type": "display_data"
    },
    {
     "data": {
      "text/html": [
       "<pre style=\"white-space:pre;overflow-x:auto;line-height:normal;font-family:Menlo,'DejaVu Sans Mono',consolas,'Courier New',monospace\"><span style=\"color: #000080; text-decoration-color: #000080\">INFO</span> Added <span style=\"color: #008080; text-decoration-color: #008080; font-weight: bold\">0</span> documents to knowledge base                                                                           \n",
       "</pre>\n"
      ],
      "text/plain": [
       "\u001b[34mINFO\u001b[0m Added \u001b[1;36m0\u001b[0m documents to knowledge base                                                                           \n"
      ]
     },
     "metadata": {},
     "output_type": "display_data"
    },
    {
     "data": {
      "text/html": [
       "<pre style=\"white-space:pre;overflow-x:auto;line-height:normal;font-family:Menlo,'DejaVu Sans Mono',consolas,'Courier New',monospace\"><span style=\"color: #000080; text-decoration-color: #000080\">INFO</span> Embedder not provided, using OpenAIEmbedder as default.                                                       \n",
       "</pre>\n"
      ],
      "text/plain": [
       "\u001b[34mINFO\u001b[0m Embedder not provided, using OpenAIEmbedder as default.                                                       \n"
      ]
     },
     "metadata": {},
     "output_type": "display_data"
    },
    {
     "name": "stdout",
     "output_type": "stream",
     "text": [
      "\n",
      "🤖 Agent ready for user user_123. Ask questions (type 'exit' to quit).\n"
     ]
    }
   ],
   "source": [
    "def run_chat():\n",
    "    user_id = input(\"Enter your user ID: \").strip()\n",
    "    folder_path = f\"data/{user_id}\"  # Make sure this folder exists with PDFs\n",
    "\n",
    "    if not os.path.exists(folder_path):\n",
    "        print(\"❌ No document folder found for this user.\")\n",
    "        return\n",
    "\n",
    "    # Step 1: Load documents into user-specific Qdrant collection\n",
    "    ingest_user_documents(user_id, folder_path)\n",
    "\n",
    "    # Step 2: Create user-specific agent\n",
    "    agent = create_user_agent(user_id)\n",
    "\n",
    "    # Step 3: Start chat loop\n",
    "    print(f\"\\n🤖 Agent ready for user {user_id}. Ask questions (type 'exit' to quit).\")\n",
    "    while True:\n",
    "        question = input(f\"[{user_id}]> \")\n",
    "        if question.lower().strip() in {\"exit\", \"quit\"}:\n",
    "            break\n",
    "        response = agent.run(question)\n",
    "        print(\"🧠\", response.content)\n",
    "run_chat()"
   ]
  },
  {
   "cell_type": "code",
   "execution_count": null,
   "id": "a5d3197c",
   "metadata": {},
   "outputs": [],
   "source": []
  }
 ],
 "metadata": {
  "kernelspec": {
   "display_name": "Python 3",
   "language": "python",
   "name": "python3"
  },
  "language_info": {
   "codemirror_mode": {
    "name": "ipython",
    "version": 3
   },
   "file_extension": ".py",
   "mimetype": "text/x-python",
   "name": "python",
   "nbconvert_exporter": "python",
   "pygments_lexer": "ipython3",
   "version": "3.11.0"
  }
 },
 "nbformat": 4,
 "nbformat_minor": 5
}

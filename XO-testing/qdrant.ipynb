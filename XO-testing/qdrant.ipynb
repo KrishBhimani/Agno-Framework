{
 "cells": [
  {
   "cell_type": "code",
   "execution_count": 39,
   "id": "5d5fb52b",
   "metadata": {},
   "outputs": [],
   "source": [
    "import os\n",
    "import uuid\n",
    "from PyPDF2 import PdfReader\n",
    "from langchain.text_splitter import RecursiveCharacterTextSplitter\n",
    "from qdrant_client import QdrantClient\n",
    "from qdrant_client.http.models import PointStruct, VectorParams, Distance\n",
    "from openai import OpenAI\n",
    "\n",
    "# === Config ===\n",
    "QDRANT_URL = \"http://localhost:6333\"\n",
    "COLLECTION_NAME = \"multi_user_docs\"\n",
    "EMBEDDING_DIM = 1536\n",
    "OPENAI_KEY = os.getenv('OPENAI_API_KEY')\n",
    "\n",
    "client = QdrantClient(url=QDRANT_URL)\n",
    "openai_client = OpenAI(api_key=OPENAI_KEY)\n",
    "\n",
    "def ingest_user_pdfs(user_id: str, pdf_dir: str):\n",
    "    if not client.collection_exists(COLLECTION_NAME):\n",
    "        client.create_collection(\n",
    "            collection_name=COLLECTION_NAME,\n",
    "            vectors_config=VectorParams(size=EMBEDDING_DIM, distance=Distance.COSINE)\n",
    "        )\n",
    "\n",
    "    splitter = RecursiveCharacterTextSplitter(chunk_size=2000, chunk_overlap=250)\n",
    "\n",
    "    for file in os.listdir(pdf_dir):\n",
    "        if not file.endswith(\".pdf\"):\n",
    "            continue\n",
    "\n",
    "        full_path = os.path.join(pdf_dir, file)\n",
    "        reader = PdfReader(full_path)\n",
    "        raw_text = \"\\n\".join([page.extract_text() or \"\" for page in reader.pages])\n",
    "        chunks = splitter.split_text(raw_text)\n",
    "\n",
    "        # Embed with OpenAI\n",
    "        response = openai_client.embeddings.create(model=\"text-embedding-3-small\", input=chunks)\n",
    "        vectors = [r.embedding for r in response.data]\n",
    "\n",
    "        points = [\n",
    "            PointStruct(\n",
    "                id=str(uuid.uuid4()),\n",
    "                vector=vec,\n",
    "                payload={\n",
    "                    \"content\": chunk,\n",
    "                    \"user_id\": user_id,\n",
    "                    \"doc_id\": file,\n",
    "                    \"name\": file,\n",
    "                    \"usage\":\"document\",\n",
    "                    \"meta_data\": {\"source\": file}  \n",
    "                }\n",
    "            )\n",
    "            for chunk, vec in zip(chunks, vectors)\n",
    "        ]\n",
    "\n",
    "        client.upsert(collection_name=COLLECTION_NAME, points=points)\n",
    "        print(f\"✅ Indexed {len(points)} chunks from {file}\")\n"
   ]
  },
  {
   "cell_type": "code",
   "execution_count": null,
   "id": "f6ab2da1",
   "metadata": {},
   "outputs": [],
   "source": [
    "from agno.knowledge import AgentKnowledge\n",
    "from agno.embedder.openai import OpenAIEmbedder\n",
    "from agno.vectordb.qdrant import Qdrant as AgnoQdrant\n",
    "from agno.models.openai import OpenAIChat\n",
    "from agno.agent import Agent\n",
    "\n",
    "def create_user_agent(user_id: str):\n",
    "    # Create vector DB (Agno wrapper)\n",
    "    vector_db = AgnoQdrant(\n",
    "        collection=COLLECTION_NAME,\n",
    "        url=QDRANT_URL\n",
    "    )\n",
    "\n",
    "    # Set up knowledge with user_id filter\n",
    "    knowledge = AgentKnowledge(\n",
    "        vector_db=vector_db,\n",
    "        embedder=OpenAIEmbedder(),\n",
    "        user_id=user_id  # ⬅️ this enforces secure filtering\n",
    "    )\n",
    "\n",
    "    # Create agent\n",
    "    agent = Agent(\n",
    "        model=OpenAIChat(id=\"gpt-3.5-turbo-0125\"),\n",
    "        knowledge=knowledge,\n",
    "        search_knowledge=True,\n",
    "        user_id=user_id,\n",
    "        instructions=[\n",
    "            \"You are a helpful assistant that can answer questions based on the provided PDF documents.\",\n",
    "            \"Always cite the source when providing information from the documents.\",\n",
    "            \"If you cannot find the answer in the documents, clearly state that.\",\n",
    "            \"Be concise but thorough in your responses.\",\n",
    "            \"Cite sources when possible. If nothing is found, say so clearly.\"\n",
    "        ]\n",
    "    )\n",
    "    return agent\n"
   ]
  },
  {
   "cell_type": "code",
   "execution_count": 44,
   "id": "e017ecf9",
   "metadata": {},
   "outputs": [
    {
     "name": "stdout",
     "output_type": "stream",
     "text": [
      "✅ Indexed 45 chunks from Introduction.pdf\n"
     ]
    },
    {
     "data": {
      "text/html": [
       "<pre style=\"white-space:pre;overflow-x:auto;line-height:normal;font-family:Menlo,'DejaVu Sans Mono',consolas,'Courier New',monospace\"><span style=\"color: #000080; text-decoration-color: #000080\">INFO</span> Embedder not provided, using OpenAIEmbedder as default.                                                       \n",
       "</pre>\n"
      ],
      "text/plain": [
       "\u001b[34mINFO\u001b[0m Embedder not provided, using OpenAIEmbedder as default.                                                       \n"
      ]
     },
     "metadata": {},
     "output_type": "display_data"
    },
    {
     "name": "stdout",
     "output_type": "stream",
     "text": [
      "\n",
      "🤖 Agent ready for user user_123. Ask questions (type 'exit' to quit).\n",
      "🧠 The plan for Week 5 includes the following tasks:\n",
      "- Set Up Supabase Project\n",
      "  - Create tables: Users, Projects, Milestones, Investments (if off-chain logging is needed).\n",
      "  - Configure Supabase Auth for role-based access (developer, investor, council).\n",
      "- Direct Integration\n",
      "  - Frontend calls to Supabase for reading/writing project data, user profiles.\n",
      "  - Real-time updates if desired (e.g., project status changes).\n",
      "\n",
      "(Source: Plan of Action.pdf)\n",
      "🧠 Akreage refers to a decentralized crowdfunding platform designed to bridge the gap between real estate developers and global investors by leveraging blockchain technology. It introduces two digital assets: Akreage Dollar (AUSD) and Akres Token. AUSD is a USD-backed stablecoin that allows developers to raise funds in a secure and predictable manner, while Akres Token is the governance token that powers the Akreage ecosystem, enabling democratic decision-making and decentralized project accountability. Projects seeking funding in the Akreage ecosystem must denominate their investment rounds in AUSD, providing a secure and stable mechanism for capital raising without the volatility of traditional cryptocurrencies. The platform also includes features like the Akreage Launchpad, the Akreage Payment System, and a hybrid multi-chain approach to maximize security, scalability, and cost efficiency.\n",
      "\n",
      "Sources:\n",
      "- Akreage Launch Pad Whitepaper.pdf\n"
     ]
    }
   ],
   "source": [
    "def run_chat():\n",
    "    user_id = input(\"Enter your user ID: \").strip()\n",
    "    user_folder = f\"data/{user_id}\"\n",
    "\n",
    "    if not os.path.isdir(user_folder):\n",
    "        print(\"❌ No PDF directory found for this user.\")\n",
    "        return\n",
    "\n",
    "    # Ingest files (only re-run if new docs added)\n",
    "    ingest_user_pdfs(user_id, user_folder)\n",
    "\n",
    "    # Create secure agent\n",
    "    agent = create_user_agent(user_id)\n",
    "\n",
    "    print(f\"\\n🤖 Agent ready for user {user_id}. Ask questions (type 'exit' to quit).\")\n",
    "    while True:\n",
    "        q = input(f\"[{user_id}]> \")\n",
    "        if q.strip().lower() in {\"exit\", \"quit\"}:\n",
    "            break\n",
    "        response = agent.run(q)\n",
    "        print(\"🧠\", response.content)\n",
    "\n",
    "run_chat()\n"
   ]
  },
  {
   "cell_type": "code",
   "execution_count": null,
   "id": "fe957ef3",
   "metadata": {},
   "outputs": [],
   "source": []
  }
 ],
 "metadata": {
  "kernelspec": {
   "display_name": "Python 3",
   "language": "python",
   "name": "python3"
  },
  "language_info": {
   "codemirror_mode": {
    "name": "ipython",
    "version": 3
   },
   "file_extension": ".py",
   "mimetype": "text/x-python",
   "name": "python",
   "nbconvert_exporter": "python",
   "pygments_lexer": "ipython3",
   "version": "3.11.0"
  }
 },
 "nbformat": 4,
 "nbformat_minor": 5
}

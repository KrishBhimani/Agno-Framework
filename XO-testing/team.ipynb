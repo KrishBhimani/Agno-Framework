{
 "cells": [
  {
   "cell_type": "code",
   "execution_count": 3,
   "id": "ecd1f448",
   "metadata": {},
   "outputs": [
    {
     "data": {
      "text/html": [
       "<pre style=\"white-space:pre;overflow-x:auto;line-height:normal;font-family:Menlo,'DejaVu Sans Mono',consolas,'Courier New',monospace\"><span style=\"color: #5fd7ff; text-decoration-color: #5fd7ff\">INFO</span> Embedder not provided, using OpenAIEmbedder as default.                                                       \n",
       "</pre>\n"
      ],
      "text/plain": [
       "\u001b[38;5;81mINFO\u001b[0m Embedder not provided, using OpenAIEmbedder as default.                                                       \n"
      ]
     },
     "metadata": {},
     "output_type": "display_data"
    },
    {
     "data": {
      "text/html": [
       "<pre style=\"white-space:pre;overflow-x:auto;line-height:normal;font-family:Menlo,'DejaVu Sans Mono',consolas,'Courier New',monospace\"><span style=\"color: #5fd7ff; text-decoration-color: #5fd7ff\">INFO</span> Creating collection                                                                                           \n",
       "</pre>\n"
      ],
      "text/plain": [
       "\u001b[38;5;81mINFO\u001b[0m Creating collection                                                                                           \n"
      ]
     },
     "metadata": {},
     "output_type": "display_data"
    },
    {
     "data": {
      "text/html": [
       "<pre style=\"white-space:pre;overflow-x:auto;line-height:normal;font-family:Menlo,'DejaVu Sans Mono',consolas,'Courier New',monospace\"><span style=\"color: #5fd7ff; text-decoration-color: #5fd7ff\">INFO</span> Loading knowledge base                                                                                        \n",
       "</pre>\n"
      ],
      "text/plain": [
       "\u001b[38;5;81mINFO\u001b[0m Loading knowledge base                                                                                        \n"
      ]
     },
     "metadata": {},
     "output_type": "display_data"
    },
    {
     "data": {
      "text/html": [
       "<pre style=\"white-space:pre;overflow-x:auto;line-height:normal;font-family:Menlo,'DejaVu Sans Mono',consolas,'Courier New',monospace\"><span style=\"color: #5fd7ff; text-decoration-color: #5fd7ff\">INFO</span> Reading: Akreage Launch Pad Whitepaper                                                                        \n",
       "</pre>\n"
      ],
      "text/plain": [
       "\u001b[38;5;81mINFO\u001b[0m Reading: Akreage Launch Pad Whitepaper                                                                        \n"
      ]
     },
     "metadata": {},
     "output_type": "display_data"
    },
    {
     "data": {
      "text/html": [
       "<pre style=\"white-space:pre;overflow-x:auto;line-height:normal;font-family:Menlo,'DejaVu Sans Mono',consolas,'Courier New',monospace\"><span style=\"color: #5fd7ff; text-decoration-color: #5fd7ff\">INFO</span> Added <span style=\"color: #008080; text-decoration-color: #008080; font-weight: bold\">6</span> documents to knowledge base                                                                           \n",
       "</pre>\n"
      ],
      "text/plain": [
       "\u001b[38;5;81mINFO\u001b[0m Added \u001b[1;36m6\u001b[0m documents to knowledge base                                                                           \n"
      ]
     },
     "metadata": {},
     "output_type": "display_data"
    },
    {
     "data": {
      "text/html": [
       "<pre style=\"white-space:pre;overflow-x:auto;line-height:normal;font-family:Menlo,'DejaVu Sans Mono',consolas,'Courier New',monospace\"><span style=\"color: #5fd7ff; text-decoration-color: #5fd7ff\">INFO</span> Reading: Akreage_Launchpad_Scope_of_Work <span style=\"font-weight: bold\">(</span><span style=\"color: #008080; text-decoration-color: #008080; font-weight: bold\">1</span><span style=\"font-weight: bold\">)</span>                                                                  \n",
       "</pre>\n"
      ],
      "text/plain": [
       "\u001b[38;5;81mINFO\u001b[0m Reading: Akreage_Launchpad_Scope_of_Work \u001b[1m(\u001b[0m\u001b[1;36m1\u001b[0m\u001b[1m)\u001b[0m                                                                  \n"
      ]
     },
     "metadata": {},
     "output_type": "display_data"
    },
    {
     "data": {
      "text/html": [
       "<pre style=\"white-space:pre;overflow-x:auto;line-height:normal;font-family:Menlo,'DejaVu Sans Mono',consolas,'Courier New',monospace\"><span style=\"color: #5fd7ff; text-decoration-color: #5fd7ff\">INFO</span> Added <span style=\"color: #008080; text-decoration-color: #008080; font-weight: bold\">2</span> documents to knowledge base                                                                           \n",
       "</pre>\n"
      ],
      "text/plain": [
       "\u001b[38;5;81mINFO\u001b[0m Added \u001b[1;36m2\u001b[0m documents to knowledge base                                                                           \n"
      ]
     },
     "metadata": {},
     "output_type": "display_data"
    },
    {
     "data": {
      "text/html": [
       "<pre style=\"white-space:pre;overflow-x:auto;line-height:normal;font-family:Menlo,'DejaVu Sans Mono',consolas,'Courier New',monospace\"><span style=\"color: #5fd7ff; text-decoration-color: #5fd7ff\">INFO</span> Reading: Plan of Action                                                                                       \n",
       "</pre>\n"
      ],
      "text/plain": [
       "\u001b[38;5;81mINFO\u001b[0m Reading: Plan of Action                                                                                       \n"
      ]
     },
     "metadata": {},
     "output_type": "display_data"
    },
    {
     "data": {
      "text/html": [
       "<pre style=\"white-space:pre;overflow-x:auto;line-height:normal;font-family:Menlo,'DejaVu Sans Mono',consolas,'Courier New',monospace\"><span style=\"color: #5fd7ff; text-decoration-color: #5fd7ff\">INFO</span> Added <span style=\"color: #008080; text-decoration-color: #008080; font-weight: bold\">5</span> documents to knowledge base                                                                           \n",
       "</pre>\n"
      ],
      "text/plain": [
       "\u001b[38;5;81mINFO\u001b[0m Added \u001b[1;36m5\u001b[0m documents to knowledge base                                                                           \n"
      ]
     },
     "metadata": {},
     "output_type": "display_data"
    }
   ],
   "source": [
    "from agno.agent import Agent\n",
    "from agno.team import Team\n",
    "from agno.tools import tool\n",
    "from agno.models.openai import OpenAIChat\n",
    "from agno.knowledge.pdf import PDFKnowledgeBase\n",
    "from agno.vectordb.qdrant import Qdrant\n",
    "from agno.vectordb.search import SearchType\n",
    "from dotenv import load_dotenv\n",
    "import os\n",
    "load_dotenv()\n",
    "os.environ['OPENAI_API_KEY'] = os.getenv('OPENAI_API_KEY')\n",
    "# === Tool-Based Agents ===\n",
    "\n",
    "@tool(name=\"clickup_tool\", stop_after_tool_call=False )\n",
    "def clickup_tool(**kwargs):\n",
    "    return \"✅ ClickUp tool triggered\"\n",
    "\n",
    "clickup_agent = Agent(\n",
    "    name=\"ClickUp Agent\",\n",
    "    model=OpenAIChat(id=\"gpt-4.1-nano\"),\n",
    "    tools=[clickup_tool],\n",
    "    show_tool_calls=True,\n",
    "    read_chat_history=True,\n",
    "    instructions=[\"Only respond to ClickUp-related tasks like creating, updating, or assigning tasks.\"]\n",
    ")\n",
    "\n",
    "@tool(name=\"slack_tool\", stop_after_tool_call=False)\n",
    "def slack_tool(**kwargs):\n",
    "    return \"✅ Slack tool triggered\"\n",
    "\n",
    "slack_agent = Agent(\n",
    "    name=\"Slack Agent\",\n",
    "    model=OpenAIChat(id=\"gpt-4.1-nano\"),\n",
    "    tools=[slack_tool],\n",
    "    show_tool_calls=True,\n",
    "    read_chat_history=True,\n",
    "    instructions=[\"Handle Slack messaging, tagging, and notifications.\"]\n",
    ")\n",
    "\n",
    "@tool(name=\"github_tool\", stop_after_tool_call=False )\n",
    "def github_tool(**kwargs):\n",
    "    return \"✅ GitHub tool triggered\"\n",
    "\n",
    "github_agent = Agent(\n",
    "    name=\"GitHub Agent\",\n",
    "    model=OpenAIChat(id=\"gpt-4.1-nano\"),\n",
    "    tools=[github_tool],\n",
    "    show_tool_calls=True,\n",
    "    read_chat_history=True,\n",
    "    instructions=[\"Respond to GitHub requests like creating issues, reviewing PRs, or commenting.\"]\n",
    ")\n",
    "\n",
    "@tool(name=\"devin_tool\", stop_after_tool_call=False )\n",
    "def devin_tool(**kwargs):\n",
    "    return \"✅ Devin tool triggered\"\n",
    "\n",
    "devin_agent = Agent(\n",
    "    name=\"Devin Agent\",\n",
    "    model=OpenAIChat(id=\"gpt-4.1-nano\"),\n",
    "    tools=[devin_tool],\n",
    "    show_tool_calls=True,\n",
    "    read_chat_history=True,\n",
    "    instructions=[\"Handle developer tasks like debugging, running tests, or building workflows.\"]\n",
    ")\n",
    "\n",
    "# === RAG Agent ===\n",
    "\n",
    "collection_name = \"new\"\n",
    "qdrant_url = \"http://localhost:6333\"\n",
    "\n",
    "knowledge_base = PDFKnowledgeBase(\n",
    "                path=f\"data/user_abc\",\n",
    "                vector_db=Qdrant(\n",
    "                    collection=collection_name,\n",
    "                    url=qdrant_url,\n",
    "                    # search_type=SearchType.hybrid,\n",
    "                ),\n",
    "            )\n",
    "\n",
    "rag_agent = Agent(\n",
    "    name=\"Knowledge Agent\",\n",
    "    model=OpenAIChat(id=\"gpt-4.1-nano\"),\n",
    "    knowledge=knowledge_base,\n",
    "    search_knowledge=True,\n",
    "    read_chat_history=True,\n",
    "    instructions=[\n",
    "            \"You are a helpful assistant that can answer questions based on the provided PDF documents.\",\n",
    "            \"Always cite the source when providing information from the documents.\",\n",
    "            \"If you cannot find the answer in the documents, clearly state that.\",\n",
    "            \"Be concise but thorough in your responses.\",\n",
    "            \"Cite sources when possible. If nothing is found, say so clearly.\"\n",
    "        ],\n",
    ")\n",
    "# === Orchestrator Team ===\n",
    "\n",
    "orchestrator = Team(\n",
    "    name=\"XO Orchestrator\",\n",
    "    model=OpenAIChat(id=\"gpt-4o\"),\n",
    "    members=[\n",
    "        rag_agent,\n",
    "        clickup_agent,\n",
    "        slack_agent,\n",
    "        github_agent,\n",
    "        devin_agent\n",
    "    ],\n",
    "    instructions = [\n",
    "                        \"You are the coordinator for a team of specialized agents, each responsible for handling a specific type of request.\",\n",
    "                        \n",
    "                        \"You must determine which agent to delegate a user message to, based on the presence of explicit `@mentions`.\",\n",
    "                        \n",
    "                        \"Only trigger a specialized tool agent if the message includes one of the exact @mentions listed below. \"\n",
    "                        \"If no such @mention is present, route the message to the `rag_agent` by default.\",\n",
    "                        \n",
    "                        \"Agent routing rules:\",\n",
    "                        \"- Route to `clickup_agent` only if the message contains `@click-up`.\",\n",
    "                        \"- Route to `slack_agent` only if the message contains `@slack`.\",\n",
    "                        \"- Route to `github_agent` only if the message contains `@github`.\",\n",
    "                        \"- Route to `copilot_agent` only if the message contains `@github-copilot`.\",\n",
    "                        \"- Route to `devin_agent` only if the message contains `@devin`.\",\n",
    "                        \"- Always route to `rag_agent` if the message contains `@XO`, or if no @mention is present at all.\",\n",
    "                        \n",
    "                        \"Do not infer tool usage from intent or keywords alone. If a message talks about GitHub or Slack but does not include the corresponding @mention, it should go to the `rag_agent`.\",\n",
    "                        \n",
    "                        \"If the message is ambiguous, vague, or lacking required context, delegate to the `rag_agent` and allow it to respond or request clarification.\",\n",
    "                        \n",
    "                        \"Your role is strictly to select the correct agent for execution. You do not generate or modify responses yourself.\"\n",
    "                    ],\n",
    "    mode=\"route\",\n",
    "    share_member_interactions=True,\n",
    "    show_members_responses=True,\n",
    "    read_team_history=True,\n",
    "    enable_agentic_context=True,\n",
    "    enable_team_history=True,\n",
    "    num_of_interactions_from_history=5,\n",
    "    show_tool_calls=True,\n",
    ")\n",
    "knowledge_base.load(recreate=False)\n",
    "\n",
    "# === Example Usage ===\n",
    "\n",
    "# if __name__ == \"__main__\":\n",
    "#     response = orchestrator.run(\"Update the ClickUp task to fix the login bug and notify @krish on Slack.\")\n",
    "#     print(response)\n"
   ]
  },
  {
   "cell_type": "code",
   "execution_count": 4,
   "id": "647adb22",
   "metadata": {},
   "outputs": [
    {
     "name": "stdout",
     "output_type": "stream",
     "text": [
      "🧠 XO Orchestrator is ready. Type 'exit' to quit.\n",
      "\n"
     ]
    },
    {
     "data": {
      "application/vnd.jupyter.widget-view+json": {
       "model_id": "d88e3fdfcfa94b198b271eeb9d133f1f",
       "version_major": 2,
       "version_minor": 0
      },
      "text/plain": [
       "Output()"
      ]
     },
     "metadata": {},
     "output_type": "display_data"
    },
    {
     "data": {
      "text/html": [
       "<pre style=\"white-space:pre;overflow-x:auto;line-height:normal;font-family:Menlo,'DejaVu Sans Mono',consolas,'Courier New',monospace\"></pre>\n"
      ],
      "text/plain": []
     },
     "metadata": {},
     "output_type": "display_data"
    },
    {
     "data": {
      "application/vnd.jupyter.widget-view+json": {
       "model_id": "d5a324bf07ce4d02b51bd84f2eac110d",
       "version_major": 2,
       "version_minor": 0
      },
      "text/plain": [
       "Output()"
      ]
     },
     "metadata": {},
     "output_type": "display_data"
    },
    {
     "data": {
      "text/html": [
       "<pre style=\"white-space:pre;overflow-x:auto;line-height:normal;font-family:Menlo,'DejaVu Sans Mono',consolas,'Courier New',monospace\"></pre>\n"
      ],
      "text/plain": []
     },
     "metadata": {},
     "output_type": "display_data"
    },
    {
     "data": {
      "application/vnd.jupyter.widget-view+json": {
       "model_id": "1c07ca2fd5c5458da4cdeb4c63141746",
       "version_major": 2,
       "version_minor": 0
      },
      "text/plain": [
       "Output()"
      ]
     },
     "metadata": {},
     "output_type": "display_data"
    },
    {
     "data": {
      "text/html": [
       "<pre style=\"white-space:pre;overflow-x:auto;line-height:normal;font-family:Menlo,'DejaVu Sans Mono',consolas,'Courier New',monospace\"></pre>\n"
      ],
      "text/plain": []
     },
     "metadata": {},
     "output_type": "display_data"
    },
    {
     "name": "stdout",
     "output_type": "stream",
     "text": [
      "👋 Goodbye!\n"
     ]
    }
   ],
   "source": [
    "def chat_with_orchestrator(agent):\n",
    "    print(\"🧠 XO Orchestrator is ready. Type 'exit' to quit.\\n\")\n",
    "    while True:\n",
    "        user_input = input(\"You: \").strip()\n",
    "        if user_input.lower() in [\"exit\", \"quit\"]:\n",
    "            print(\"👋 Goodbye!\")\n",
    "            break\n",
    "        try:\n",
    "            agent.print_response(user_input,stream=True)\n",
    "            # response = agent.run(user_input)\n",
    "            # print(f\"🧠 XO: {response.content}\\n\")\n",
    "        except Exception as e:\n",
    "            print(f\"❌ Error: {e}\\n\")\n",
    "if __name__ == \"__main__\":\n",
    "    chat_with_orchestrator(orchestrator)"
   ]
  },
  {
   "cell_type": "code",
   "execution_count": null,
   "id": "7da433ad",
   "metadata": {},
   "outputs": [],
   "source": []
  }
 ],
 "metadata": {
  "kernelspec": {
   "display_name": "Python 3",
   "language": "python",
   "name": "python3"
  },
  "language_info": {
   "codemirror_mode": {
    "name": "ipython",
    "version": 3
   },
   "file_extension": ".py",
   "mimetype": "text/x-python",
   "name": "python",
   "nbconvert_exporter": "python",
   "pygments_lexer": "ipython3",
   "version": "3.11.0"
  }
 },
 "nbformat": 4,
 "nbformat_minor": 5
}
